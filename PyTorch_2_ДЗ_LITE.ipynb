{
  "nbformat": 4,
  "nbformat_minor": 0,
  "metadata": {
    "colab": {
      "provenance": [],
      "gpuType": "T4",
      "include_colab_link": true
    },
    "kernelspec": {
      "name": "python3",
      "display_name": "Python 3"
    },
    "language_info": {
      "name": "python"
    },
    "accelerator": "GPU"
  },
  "cells": [
    {
      "cell_type": "markdown",
      "metadata": {
        "id": "view-in-github",
        "colab_type": "text"
      },
      "source": [
        "<a href=\"https://colab.research.google.com/github/MetalGuru434/ANNTrade/blob/main/PyTorch_2_%D0%94%D0%97_LITE.ipynb\" target=\"_parent\"><img src=\"https://colab.research.google.com/assets/colab-badge.svg\" alt=\"Open In Colab\"/></a>"
      ]
    },
    {
      "cell_type": "markdown",
      "source": [
        "# 1. Задание Lite"
      ],
      "metadata": {
        "id": "L3vtvnoA8HOi"
      }
    },
    {
      "cell_type": "code",
      "execution_count": null,
      "metadata": {
        "id": "HrHs3teq0UA3",
        "cellView": "form"
      },
      "outputs": [],
      "source": [
        "#@title Импортируем библиотеки\n",
        "import torch\n",
        "import numpy as np\n",
        "from matplotlib import pyplot as plt"
      ]
    },
    {
      "cell_type": "markdown",
      "source": [
        "Дорогой студент!\n",
        "\n",
        "В домашнем задании вам предлагается поработать с Тензорами.\n",
        "\n",
        "Для закрепления материала советуем выполнить как можно больше задач.\n",
        "\n",
        "\n",
        "Во всех упражнениях не пользуйтесь стандартными циклами питона for и while, если только это не оговорено в самом упражнении!"
      ],
      "metadata": {
        "id": "05Y0FSOb8QZG"
      }
    },
    {
      "cell_type": "markdown",
      "source": [
        "#### 1. Дан одномерный массив, сделайте отрицательными все элементы, значения которых находятся между 3 и 8, операция inplace, не пользуйтесь циклами\n",
        "```\n",
        "# исходный тензор\n",
        "v     = tensor([ 0,  1,  2,  3,  4,  5,  6,  7,  8,  9, 10])\n",
        "\n",
        "# результат\n",
        "v_inv = tensor([ 0,  1,  2,  3, -4, -5, -6, -7,  8,  9, 10])\n",
        "```"
      ],
      "metadata": {
        "id": "EZVmRsQIVYSk"
      }
    },
    {
      "cell_type": "code",
      "source": [
        "v = torch.arange(11)\n",
        "# v\n",
        "v"
      ],
      "metadata": {
        "colab": {
          "base_uri": "https://localhost:8080/"
        },
        "id": "vIkvs9ecVaY8",
        "outputId": "595845c4-9a55-4bfe-c927-8140b3071a21"
      },
      "execution_count": null,
      "outputs": [
        {
          "output_type": "execute_result",
          "data": {
            "text/plain": [
              "tensor([ 0,  1,  2,  3,  4,  5,  6,  7,  8,  9, 10])"
            ]
          },
          "metadata": {},
          "execution_count": 41
        }
      ]
    },
    {
      "cell_type": "markdown",
      "source": [
        "Ваше решение:"
      ],
      "metadata": {
        "id": "2pq0b3ER1EqZ"
      }
    },
    {
      "cell_type": "code",
      "source": [],
      "metadata": {
        "id": "C5LR_z133XDO"
      },
      "execution_count": null,
      "outputs": []
    },
    {
      "cell_type": "markdown",
      "source": [
        "#### 2. Для произвольной матрицы размерности (n, m) найдите в каждом столбце индексы минимального и максимального значения\n",
        "```\n",
        "n = 3\n",
        "m = 6\n",
        "v = tensor([[2, 1, 5, 1, 4, 6],\n",
        "            [6, 5, 9, 9, 0, 9],\n",
        "            [2, 9, 4, 9, 9, 7]], dtype=torch.uint8)\n",
        "\n",
        "# результат\n",
        "min_index = tensor([0, 0, 2, 0, 1, 0])\n",
        "max_index = tensor([1, 2, 1, 1, 2, 1])\n",
        "```"
      ],
      "metadata": {
        "id": "uGu3waf6Quxj"
      }
    },
    {
      "cell_type": "code",
      "source": [
        "n = 3\n",
        "m = 6\n",
        "v = torch.randint(0, 10, [n, m], dtype=torch.uint8)\n",
        "print(v)"
      ],
      "metadata": {
        "colab": {
          "base_uri": "https://localhost:8080/"
        },
        "id": "rE-J8pi3Q6vL",
        "outputId": "c63779ba-de43-436e-fa67-98c7390d4e10"
      },
      "execution_count": null,
      "outputs": [
        {
          "output_type": "stream",
          "name": "stdout",
          "text": [
            "tensor([[2, 0, 3, 6, 3, 0],\n",
            "        [2, 5, 8, 5, 0, 9],\n",
            "        [6, 1, 5, 8, 4, 0]], dtype=torch.uint8)\n"
          ]
        }
      ]
    },
    {
      "cell_type": "markdown",
      "source": [
        "Ваше решение:"
      ],
      "metadata": {
        "id": "U1SAlJFP1UEf"
      }
    },
    {
      "cell_type": "markdown",
      "source": [
        "#### 3. Сгенерируйте матрицу, заполненную 0 и 1 в шахматном порядке для матрицы произвольного размера w, h\n",
        "```\n",
        "h = 6\n",
        "w = 8\n",
        "\n",
        "# результат\n",
        "tensor([[0, 1, 0, 1, 0, 1],\n",
        "        [1, 0, 1, 0, 1, 0],\n",
        "        [0, 1, 0, 1, 0, 1],\n",
        "        [1, 0, 1, 0, 1, 0],\n",
        "        [0, 1, 0, 1, 0, 1],\n",
        "        [1, 0, 1, 0, 1, 0],\n",
        "        [0, 1, 0, 1, 0, 1],\n",
        "        [1, 0, 1, 0, 1, 0]], dtype=torch.uint8)\n",
        "```"
      ],
      "metadata": {
        "id": "aGKKdWPxL5uR"
      }
    },
    {
      "cell_type": "code",
      "source": [
        "w = 6\n",
        "h = 8\n",
        "v = torch.zeros([h, w], dtype=torch.uint8)\n",
        "print(v)"
      ],
      "metadata": {
        "colab": {
          "base_uri": "https://localhost:8080/"
        },
        "id": "TIxwGzQFMEFJ",
        "outputId": "0fa52676-85bb-4d9e-ebb2-037cef5db21c"
      },
      "execution_count": null,
      "outputs": [
        {
          "output_type": "stream",
          "name": "stdout",
          "text": [
            "tensor([[0, 0, 0, 0, 0, 0],\n",
            "        [0, 0, 0, 0, 0, 0],\n",
            "        [0, 0, 0, 0, 0, 0],\n",
            "        [0, 0, 0, 0, 0, 0],\n",
            "        [0, 0, 0, 0, 0, 0],\n",
            "        [0, 0, 0, 0, 0, 0],\n",
            "        [0, 0, 0, 0, 0, 0],\n",
            "        [0, 0, 0, 0, 0, 0]], dtype=torch.uint8)\n"
          ]
        }
      ]
    },
    {
      "cell_type": "markdown",
      "source": [
        "Ваше решение:"
      ],
      "metadata": {
        "id": "d1uszb-V2j5X"
      }
    },
    {
      "cell_type": "code",
      "source": [],
      "metadata": {
        "id": "cVnjqNuJ3e0l"
      },
      "execution_count": null,
      "outputs": []
    },
    {
      "cell_type": "markdown",
      "source": [
        "#### 4. Найдите наиболее часто встречающееся значение в массиве"
      ],
      "metadata": {
        "id": "bZ-tbNMn1BxL"
      }
    },
    {
      "cell_type": "code",
      "source": [
        "A = torch.randint(0,10,(50, ))\n",
        "A"
      ],
      "metadata": {
        "id": "LRffJvJ41FI9",
        "colab": {
          "base_uri": "https://localhost:8080/"
        },
        "outputId": "75ee573b-ca0a-456a-c275-8e0fa236cb33"
      },
      "execution_count": null,
      "outputs": [
        {
          "output_type": "execute_result",
          "data": {
            "text/plain": [
              "tensor([5, 6, 3, 1, 8, 8, 4, 9, 8, 6, 2, 3, 9, 1, 9, 3, 3, 3, 0, 7, 5, 9, 7, 5,\n",
              "        1, 1, 2, 6, 2, 3, 8, 5, 9, 7, 1, 7, 7, 9, 0, 6, 2, 7, 6, 2, 2, 3, 2, 9,\n",
              "        5, 6])"
            ]
          },
          "metadata": {},
          "execution_count": 67
        }
      ]
    },
    {
      "cell_type": "markdown",
      "source": [
        "Ваше решение:"
      ],
      "metadata": {
        "id": "hUvzrVGg2pPX"
      }
    },
    {
      "cell_type": "code",
      "source": [],
      "metadata": {
        "id": "XOXXp0GL3eDe"
      },
      "execution_count": null,
      "outputs": []
    },
    {
      "cell_type": "markdown",
      "source": [
        "#### 5. Дано цветное изображение в формате RGB. Преобразуйте изображение в формат BGR\n",
        "![image.png](data:image/png;base64,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)"
      ],
      "metadata": {
        "id": "gjq9oEIE6VVj"
      }
    },
    {
      "cell_type": "code",
      "source": [
        "rgb_image = torch.zeros([400, 400, 3], dtype=torch.uint8)\n",
        "rgb_image[:, :, :] = torch.tensor([255, 0, 0])\n",
        "rgb_image[50:350, 50:350, :] = torch.tensor([0, 255, 0])\n",
        "rgb_image[100:300, 100:300, :] = torch.tensor([0, 0, 255])\n",
        "\n",
        "# bgr_image\n",
        "\n",
        "fig, axes = plt.subplots(1, 2, figsize=(8, 4))\n",
        "axes[0].imshow(rgb_image)\n",
        "# axes[1].imshow(bgr_image)"
      ],
      "metadata": {
        "colab": {
          "base_uri": "https://localhost:8080/",
          "height": 392
        },
        "id": "pAarWz0I6UdC",
        "outputId": "31eb2e10-8c1c-48ff-be8b-32d302051618"
      },
      "execution_count": null,
      "outputs": [
        {
          "output_type": "execute_result",
          "data": {
            "text/plain": [
              "<matplotlib.image.AxesImage at 0x7fad6357b8b0>"
            ]
          },
          "metadata": {},
          "execution_count": 122
        },
        {
          "output_type": "display_data",
          "data": {
            "text/plain": [
              "<Figure size 800x400 with 2 Axes>"
            ],
            "image/png": "[encoded data removed]"
          },
          "metadata": {}
        }
      ]
    },
    {
      "cell_type": "markdown",
      "source": [
        "Ваше решение:"
      ],
      "metadata": {
        "id": "sF3BvGw13suJ"
      }
    },
    {
      "cell_type": "code",
      "source": [],
      "metadata": {
        "id": "xLD11OC33iDe"
      },
      "execution_count": null,
      "outputs": []
    },
    {
      "cell_type": "markdown",
      "metadata": {
        "id": "BA09LISXy3gI"
      },
      "source": [
        "# 2. Задание Lite\n",
        "* Используя шаблон ноутбука постройте предобученную модель на основе VGG19, сети для классификации изображений.\n",
        "* С помощью Fine-tuning настройте предобученную модель VGG19 для работы с базой CIFAR100.\n",
        "* Обучите последний слой VGG19.\n",
        "* Выведите полученную точность после обучения модели.\n",
        "* Визуализируйте результат обучения модели выведя изображение, его предсказанное и фактическое значение.\n"
      ]
    },
    {
      "cell_type": "code",
      "metadata": {
        "id": "4D2Vsc8Dp_Rg"
      },
      "source": [
        "from torchvision import models # здесь лежат предобученные сетки\n",
        "\n",
        "import argparse\n",
        "from types import SimpleNamespace # простой класс, где можно прописать параметры\n",
        "import json\n",
        "import time\n",
        "\n",
        "# Для визуализации\n",
        "import numpy as np\n",
        "import matplotlib.pyplot as plt\n",
        "%matplotlib inline\n",
        "from PIL import Image\n",
        "import scipy\n",
        "\n",
        "# Библиотеки Pytorch\n",
        "import torch\n",
        "import torchvision # здесь лежит mnist, cifar и много других датасетов и трансформаций для картинок\n",
        "import torch.nn as nn # здесь лежат все слои\n",
        "import torch.utils.data as data # работа с загрузчиком данных\n",
        "import torchvision.transforms as transforms\n",
        "import torchvision.datasets as dsets #работа с классом Датасет\n",
        "from torch.autograd import Variable # для автоматического дифференциатора"
      ],
      "execution_count": null,
      "outputs": []
    },
    {
      "cell_type": "markdown",
      "metadata": {
        "id": "C3wrHbDlbV2O"
      },
      "source": [
        "Ваше решение:"
      ]
    },
    {
      "cell_type": "code",
      "source": [],
      "metadata": {
        "id": "ersCFsBS4HSX"
      },
      "execution_count": null,
      "outputs": []
    }
  ]
}