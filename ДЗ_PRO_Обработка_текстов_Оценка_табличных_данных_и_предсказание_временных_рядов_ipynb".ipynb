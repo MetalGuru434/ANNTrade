{
  "nbformat": 4,
  "nbformat_minor": 0,
  "metadata": {
    "colab": {
      "provenance": [],
      "collapsed_sections": [
        "f_K-sjD_y0bI",
        "pTBEwg0xSHS3"
      ],
      "machine_shape": "hm",
      "gpuType": "T4",
      "include_colab_link": true
    },
    "kernelspec": {
      "name": "python3",
      "display_name": "Python 3"
    },
    "language_info": {
      "name": "python"
    },
    "accelerator": "GPU"
  },
  "cells": [
    {
      "cell_type": "markdown",
      "metadata": {
        "id": "view-in-github",
        "colab_type": "text"
      },
      "source": [
        "<a href=\"https://colab.research.google.com/github/MetalGuru434/ANNTrade/blob/main/%D0%94%D0%97_PRO_%D0%9E%D0%B1%D1%80%D0%B0%D0%B1%D0%BE%D1%82%D0%BA%D0%B0_%D1%82%D0%B5%D0%BA%D1%81%D1%82%D0%BE%D0%B2_%D0%9E%D1%86%D0%B5%D0%BD%D0%BA%D0%B0_%D1%82%D0%B0%D0%B1%D0%BB%D0%B8%D1%87%D0%BD%D1%8B%D1%85_%D0%B4%D0%B0%D0%BD%D0%BD%D1%8B%D1%85_%D0%B8_%D0%BF%D1%80%D0%B5%D0%B4%D1%81%D0%BA%D0%B0%D0%B7%D0%B0%D0%BD%D0%B8%D0%B5_%D0%B2%D1%80%D0%B5%D0%BC%D0%B5%D0%BD%D0%BD%D1%8B%D1%85_%D1%80%D1%8F%D0%B4%D0%BE%D0%B2_ipynb%22.ipynb\" target=\"_parent\"><img src=\"https://colab.research.google.com/assets/colab-badge.svg\" alt=\"Open In Colab\"/></a>"
      ]
    },
    {
      "cell_type": "markdown",
      "source": [
        "# Задание 1. Обработка текстов с помощью нейронных сетей."
      ],
      "metadata": {
        "id": "qFSpGbk05LBE"
      }
    },
    {
      "cell_type": "markdown",
      "metadata": {
        "id": "3hahJ-ONkfmR"
      },
      "source": [
        "Дорогой студент!\n",
        "\n",
        "В данном домашнем задании предоставляется возможность поработать с задачей по распознаванию позитивных и негативных отзывы людей по автомобилю Tesla. База для обучения содержит два текстовых файла с рядом строчных отзывов с мнением людей об автомобиле Tesla, соответственно негативного и позитивного содержания. Ссылка на скачивание базы уже включена в ноутбук задания.\n",
        "\n",
        "\n",
        "Необходимо выполнить следующие действия:\n",
        "\n",
        "  1. Загрузите базу по ссылке и подговьте файлы базы для обработки.\n",
        "  2. Создайте обучающую и проверочную выборки, обратив особое внимание на балансировку базы: количество примеров каждого класса должно быть примерно одного порядка.\n",
        "  3. Подготовьте выборки для обучения и обучите сеть. Добейтесь результата точности сети в 85-90% на проверочной выборке.\n",
        "   \n"
      ]
    },
    {
      "cell_type": "markdown",
      "metadata": {
        "id": "PUN4KxIPuUmM"
      },
      "source": [
        "**Импорт библиотек, загрузка базы и подготовка её к предобработке.**"
      ]
    },
    {
      "cell_type": "code",
      "source": [
        "# Работа с массивами данных\n",
        "import numpy as np\n",
        "\n",
        "# Работа с таблицами\n",
        "import pandas as pd\n",
        "\n",
        "# Отрисовка графиков\n",
        "import matplotlib.pyplot as plt\n",
        "\n",
        "# Функции-утилиты для работы с категориальными данными\n",
        "from tensorflow.keras import utils\n",
        "\n",
        "# Класс для конструирования последовательной модели нейронной сети\n",
        "from tensorflow.keras.models import Sequential\n",
        "\n",
        "# Основные слои\n",
        "from tensorflow.keras.layers import Dense, Dropout, SpatialDropout1D, BatchNormalization, Embedding, Flatten, Activation\n",
        "\n",
        "# Токенизатор для преобразование текстов в последовательности\n",
        "from tensorflow.keras.preprocessing.text import Tokenizer\n",
        "\n",
        "# Заполнение последовательностей до определенной длины\n",
        "from tensorflow.keras.preprocessing.sequence import pad_sequences\n",
        "\n",
        "# Загрузка датасетов из облака google\n",
        "import gdown\n",
        "\n",
        "# Для работы с файлами в Colaboratory\n",
        "import os\n",
        "\n",
        "# Отрисовка графиков\n",
        "import matplotlib.pyplot as plt\n",
        "\n",
        "%matplotlib inline"
      ],
      "metadata": {
        "id": "xOYjMYA5bQD5"
      },
      "execution_count": null,
      "outputs": []
    },
    {
      "cell_type": "code",
      "metadata": {
        "id": "pBys9ajOW43u",
        "colab": {
          "base_uri": "https://localhost:8080/",
          "height": 35
        },
        "outputId": "a0c15de9-652f-48a7-cd8a-201c0dcc9e57"
      },
      "source": [
        "gdown.download('https://storage.yandexcloud.net/aiueducation/Content/base/l7/tesla.zip', None, quiet=True)"
      ],
      "execution_count": null,
      "outputs": [
        {
          "output_type": "execute_result",
          "data": {
            "text/plain": [
              "'tesla.zip'"
            ],
            "application/vnd.google.colaboratory.intrinsic+json": {
              "type": "string"
            }
          },
          "metadata": {},
          "execution_count": 2
        }
      ]
    },
    {
      "cell_type": "markdown",
      "metadata": {
        "id": "Poe5lbs7ulKQ"
      },
      "source": [
        "**Деление общей базы отзывов на данные для обучения и проверки.**"
      ]
    },
    {
      "cell_type": "code",
      "metadata": {
        "id": "bBgC28cgulnc",
        "colab": {
          "base_uri": "https://localhost:8080/"
        },
        "outputId": "f9673128-a33b-4207-bbee-d699bbfa426e"
      },
      "source": [
        "# Распаковка архива в папку writers\n",
        "!unzip -qo tesla.zip -d tesla/\n",
        "\n",
        "# Просмотр содержимого папки\n",
        "!ls tesla"
      ],
      "execution_count": null,
      "outputs": [
        {
          "output_type": "stream",
          "name": "stdout",
          "text": [
            "'Негативный отзыв.txt'\t'Позитивный отзыв.txt'\n"
          ]
        }
      ]
    },
    {
      "cell_type": "markdown",
      "metadata": {
        "id": "o7VsrwF92JDM"
      },
      "source": [
        "**Загрузка текста из файлов, преобразование в одну строку.**"
      ]
    },
    {
      "cell_type": "code",
      "metadata": {
        "id": "tHELyvOvzRBI"
      },
      "source": [
        "# Объявляем функции для чтения файла. На вход отправляем путь к файлу\n",
        "def read_text(file_name):\n",
        "\n",
        "  # Задаем открытие нужного файла в режиме чтения\n",
        "  read_file = open(file_name, 'r')\n",
        "\n",
        "  # Читаем текст\n",
        "  text = read_file.read()\n",
        "\n",
        "  # Переносы строки переводим в пробелы\n",
        "  text = text.replace(\"\\n\", \" \")\n",
        "\n",
        "  # Возвращаем текст файла\n",
        "  return text\n",
        "\n",
        "# Объявляем интересующие нас классы\n",
        "class_names = [\"Негативный отзыв\", \"Позитивный отзыв\"]\n",
        "\n",
        "# Считаем количество классов\n",
        "num_classes = len(class_names)"
      ],
      "execution_count": null,
      "outputs": []
    },
    {
      "cell_type": "markdown",
      "metadata": {
        "id": "ih6e6VfO2o_t"
      },
      "source": [
        "**Тексты в один список.**"
      ]
    },
    {
      "cell_type": "code",
      "metadata": {
        "id": "9w4V4ztFznbG",
        "colab": {
          "base_uri": "https://localhost:8080/"
        },
        "outputId": "f4694389-efa3-4dcc-bb1f-eba07c325539"
      },
      "source": [
        "import os\n",
        "# Создаём список под тексты для обучающей выборки\n",
        "texts_list = []\n",
        "\n",
        "# Циклом проводим итерацию по текстовым файлам в папке отзывов\n",
        "for j in os.listdir('/content/tesla/'):\n",
        "\n",
        "  # Добавляем каждый файл в общий список для выборки\n",
        "        texts_list.append(read_text('/content/tesla/' + j))\n",
        "\n",
        "        # Выводим на экран сообщение о добавлении файла\n",
        "        print(j, 'добавлен в обучающую выборку')"
      ],
      "execution_count": null,
      "outputs": [
        {
          "output_type": "stream",
          "name": "stdout",
          "text": [
            "Негативный отзыв.txt добавлен в обучающую выборку\n",
            "Позитивный отзыв.txt добавлен в обучающую выборку\n"
          ]
        }
      ]
    },
    {
      "cell_type": "code",
      "metadata": {
        "id": "rvvdNpt40jRY",
        "colab": {
          "base_uri": "https://localhost:8080/"
        },
        "outputId": "bcf78f02-584f-4de7-bee0-1a51106c255c"
      },
      "source": [
        "# Узнаем объём каждого текста в символах\n",
        "texts_len = [len(text) for text in texts_list]\n",
        "\n",
        "# Устанавливаем \"счётчик\" номера текста\n",
        "t_num = 0\n",
        "\n",
        "# Выводим на экран  информационное сообщение\n",
        "print(f'Размеры текстов по порядку (в символах):')\n",
        "\n",
        "# Циклом проводим итерацию по списку с объёмами текстов\n",
        "for text_len in texts_len:\n",
        "\n",
        "  # Запускаем \"счётчик\" номера текста\n",
        "  t_num += 1\n",
        "\n",
        "  # Выводим на экран сообщение о номере и объёме текста\n",
        "  print(f'Текст №{t_num}: {text_len}')\n",
        "\n",
        "  # Вывод первых строк таблицы\n",
        "print(texts_list[0][0:1223])"
      ],
      "execution_count": null,
      "outputs": [
        {
          "output_type": "stream",
          "name": "stdout",
          "text": [
            "Размеры текстов по порядку (в символах):\n",
            "Текст №1: 134535\n",
            "Текст №2: 213381\n",
            "После 170 на трассе она чувствует себя неуверенно.  Кстати сидения очень удобными тоже не назовёшь. ... Это моё личное впечатление об автомобиле. Шляпа, а не авто, все не продумано до мелочей. Пока это гаджет а не авто. Это не авто, а бренд. Стремнные материалы, стремно все. Прям фу фу фу и дизайн снаружи и внутри. Продал  слава богу, экран менять целое дело через полтора года , негодование обычно возникает из-за несостоявшихся обманутых ожиданий. Не нужно воспринимать теслу как эталон, верх совершенства и т.п. Относитесь к тесле как гаджету и тогда не будет несбывшихся ожиданий от него гаджету можно простить и заоблачную цену при скромных характеристиках и зазоры на дверях при выдвигающихся ручках дверей. Походу ещё один бот и видите как тезисы выкидывает не нужно воспринимать Теслу как эталон, Тесла это гаджет, который нет смысла покупать...  Как я уже и писал к предыдущему посту КАЧЕСТВО СБОРКИ ХРОМАЕТ! Я пару дней назад указал на не совсем качественную подгонку деталей Model Y, и напомнил что третья модель на старте производства тоже страдала данной болезнью.  Большинство знакомых говорит что фигня Выглядит дико колхозно, как типичная пацанская девяточка Я ничего не понял про передний багажник. Что з\n"
          ]
        }
      ]
    },
    {
      "cell_type": "markdown",
      "metadata": {
        "id": "lpAQS_wB24TT"
      },
      "source": [
        "Далее рассчитаем, сколько символов составит 80% объёма каждого текста, чтобы по полученному индексу отделить эти 80% на обучающую и оставшиеся 20% на проверочную выборку. Эти значения необходимы для подготовки деления на выборки слайсингом по индексу."
      ]
    },
    {
      "cell_type": "code",
      "metadata": {
        "id": "0ur3bkOd3UTQ",
        "colab": {
          "base_uri": "https://localhost:8080/"
        },
        "outputId": "bfced7fe-208b-4f3b-d73c-bd17bba99df5"
      },
      "source": [
        "# Создаём список с вложенным циклом по длинам текстов, где i - 100% текста, i/5 - 20% текста\n",
        "train_len_shares = [(i - round(i/5)) for i in texts_len]\n",
        "\n",
        "# Устанавливаем \"счётчик\" номера текста\n",
        "t_num = 0\n",
        "\n",
        "# Циклом проводим итерацию по списку с объёмами текстов равными 80% от исходных\n",
        "for train_len_share in train_len_shares:\n",
        "\n",
        "  # Запускаем \"счётчик\" номера текста\n",
        "  t_num += 1\n",
        "\n",
        "  # Выводим на экран сообщение о номере и объёме текста в 80% от исходного\n",
        "  print(f'Доля 80% от текста №{t_num}: {train_len_share} символов')"
      ],
      "execution_count": null,
      "outputs": [
        {
          "output_type": "stream",
          "name": "stdout",
          "text": [
            "Доля 80% от текста №1: 107628 символов\n",
            "Доля 80% от текста №2: 170705 символов\n"
          ]
        }
      ]
    },
    {
      "cell_type": "markdown",
      "metadata": {
        "id": "rVHFObMz5RsH"
      },
      "source": [
        "Импортируем функцию **chain()** для добавления текстов в каждую выборку.\n",
        "\n",
        "---\n",
        " Дополнительная информация: ([База знаний УИИ  - **\"Методы работы со списками: функция chain( )**\"](https://colab.research.google.com/drive/1KJKg_WYD8Vq63cciOMBEEAhFpyPv0A0V?usp=sharing/))\n",
        "\n",
        "---\n",
        "\n",
        "Производём нарезку (метод слайсинга) по полученному ранее индексу для формирования текстов отдельно для обучающей(80%) и проверочной(20%) выборок:"
      ]
    },
    {
      "cell_type": "code",
      "source": [
        "from itertools import chain"
      ],
      "metadata": {
        "id": "mnYPRAt_iqqZ"
      },
      "execution_count": null,
      "outputs": []
    },
    {
      "cell_type": "code",
      "source": [
        "# Списки под обучающую и тестовую выборки\n",
        "train_texts, val_texts = [], []\n",
        "train_labels, val_labels = [], []\n",
        "\n",
        "# Разделяем тексты: 80 % – обучение, 20 % – проверка\n",
        "for class_idx, (text, split_idx) in enumerate(zip(texts_list, train_len_shares)):\n",
        "    train_texts.append(text[:split_idx])\n",
        "    val_texts.append(text[split_idx:])\n",
        "    train_labels.append(class_idx)\n",
        "    val_labels.append(class_idx)\n",
        "\n",
        "# Приводим метки к one‑hot-формату\n",
        "y_train = utils.to_categorical(train_labels, num_classes)\n",
        "y_val = utils.to_categorical(val_labels, num_classes)\n",
        "\n",
        "# Токенизация и подготовка последовательностей\n",
        "tokenizer = Tokenizer(num_words=5000)\n",
        "tokenizer.fit_on_texts(train_texts)\n",
        "\n",
        "X_train_seq = tokenizer.texts_to_sequences(train_texts)\n",
        "X_val_seq = tokenizer.texts_to_sequences(val_texts)\n",
        "\n",
        "max_len = 1000  # можно подобрать оптимальную длину\n",
        "X_train = pad_sequences(X_train_seq, maxlen=max_len)\n",
        "X_val = pad_sequences(X_val_seq, maxlen=max_len)\n",
        "\n",
        "# Построение модели\n",
        "model = Sequential()\n",
        "model.add(Embedding(input_dim=5000, output_dim=64, input_length=max_len))\n",
        "model.add(SpatialDropout1D(0.2))\n",
        "model.add(Flatten())\n",
        "model.add(Dense(64, activation='relu'))\n",
        "model.add(Dropout(0.5))\n",
        "model.add(Dense(num_classes, activation='softmax'))\n",
        "\n",
        "model.compile(optimizer='adam',\n",
        "              loss='categorical_crossentropy',\n",
        "              metrics=['accuracy'])\n",
        "\n",
        "# Обучение\n",
        "history = model.fit(X_train, y_train,\n",
        "                    batch_size=32,\n",
        "                    epochs=10,\n",
        "                    validation_data=(X_val, y_val))\n",
        "\n",
        "# После обучения можно вывести точность\n",
        "print(\"Validation accuracy:\", history.history['val_accuracy'][-1])\n"
      ],
      "metadata": {
        "colab": {
          "base_uri": "https://localhost:8080/"
        },
        "id": "fbMFRZ6VwjsD",
        "outputId": "256e4721-ac32-4e54-a163-58890124b9a7"
      },
      "execution_count": null,
      "outputs": [
        {
          "output_type": "stream",
          "name": "stderr",
          "text": [
            "/usr/local/lib/python3.11/dist-packages/keras/src/layers/core/embedding.py:90: UserWarning: Argument `input_length` is deprecated. Just remove it.\n",
            "  warnings.warn(\n"
          ]
        },
        {
          "output_type": "stream",
          "name": "stdout",
          "text": [
            "Epoch 1/10\n",
            "\u001b[1m1/1\u001b[0m \u001b[32m━━━━━━━━━━━━━━━━━━━━\u001b[0m\u001b[37m\u001b[0m \u001b[1m4s\u001b[0m 4s/step - accuracy: 0.5000 - loss: 0.6729 - val_accuracy: 1.0000 - val_loss: 0.6660\n",
            "Epoch 2/10\n",
            "\u001b[1m1/1\u001b[0m \u001b[32m━━━━━━━━━━━━━━━━━━━━\u001b[0m\u001b[37m\u001b[0m \u001b[1m0s\u001b[0m 68ms/step - accuracy: 1.0000 - loss: 0.1237 - val_accuracy: 1.0000 - val_loss: 0.6600\n",
            "Epoch 3/10\n",
            "\u001b[1m1/1\u001b[0m \u001b[32m━━━━━━━━━━━━━━━━━━━━\u001b[0m\u001b[37m\u001b[0m \u001b[1m0s\u001b[0m 66ms/step - accuracy: 1.0000 - loss: 0.0041 - val_accuracy: 1.0000 - val_loss: 0.6549\n",
            "Epoch 4/10\n",
            "\u001b[1m1/1\u001b[0m \u001b[32m━━━━━━━━━━━━━━━━━━━━\u001b[0m\u001b[37m\u001b[0m \u001b[1m0s\u001b[0m 65ms/step - accuracy: 1.0000 - loss: 0.0135 - val_accuracy: 1.0000 - val_loss: 0.6522\n",
            "Epoch 5/10\n",
            "\u001b[1m1/1\u001b[0m \u001b[32m━━━━━━━━━━━━━━━━━━━━\u001b[0m\u001b[37m\u001b[0m \u001b[1m0s\u001b[0m 66ms/step - accuracy: 1.0000 - loss: 5.4953e-05 - val_accuracy: 1.0000 - val_loss: 0.6505\n",
            "Epoch 6/10\n",
            "\u001b[1m1/1\u001b[0m \u001b[32m━━━━━━━━━━━━━━━━━━━━\u001b[0m\u001b[37m\u001b[0m \u001b[1m0s\u001b[0m 66ms/step - accuracy: 1.0000 - loss: 7.9274e-06 - val_accuracy: 1.0000 - val_loss: 0.6493\n",
            "Epoch 7/10\n",
            "\u001b[1m1/1\u001b[0m \u001b[32m━━━━━━━━━━━━━━━━━━━━\u001b[0m\u001b[37m\u001b[0m \u001b[1m0s\u001b[0m 65ms/step - accuracy: 1.0000 - loss: 4.8280e-06 - val_accuracy: 1.0000 - val_loss: 0.6482\n",
            "Epoch 8/10\n",
            "\u001b[1m1/1\u001b[0m \u001b[32m━━━━━━━━━━━━━━━━━━━━\u001b[0m\u001b[37m\u001b[0m \u001b[1m0s\u001b[0m 66ms/step - accuracy: 1.0000 - loss: 0.0000e+00 - val_accuracy: 0.5000 - val_loss: 0.6476\n",
            "Epoch 9/10\n",
            "\u001b[1m1/1\u001b[0m \u001b[32m━━━━━━━━━━━━━━━━━━━━\u001b[0m\u001b[37m\u001b[0m \u001b[1m0s\u001b[0m 65ms/step - accuracy: 1.0000 - loss: 0.0000e+00 - val_accuracy: 0.5000 - val_loss: 0.6471\n",
            "Epoch 10/10\n",
            "\u001b[1m1/1\u001b[0m \u001b[32m━━━━━━━━━━━━━━━━━━━━\u001b[0m\u001b[37m\u001b[0m \u001b[1m0s\u001b[0m 66ms/step - accuracy: 1.0000 - loss: 0.0000e+00 - val_accuracy: 0.5000 - val_loss: 0.6466\n",
            "Validation accuracy: 0.5\n"
          ]
        }
      ]
    },
    {
      "cell_type": "markdown",
      "source": [
        "1. Загрузка данных и балансировка классов"
      ],
      "metadata": {
        "id": "nP1jal0tf9bs"
      }
    },
    {
      "cell_type": "code",
      "source": [
        "import numpy as np\n",
        "import matplotlib.pyplot as plt\n",
        "from sklearn.model_selection import train_test_split\n",
        "from tensorflow.keras.preprocessing.text import Tokenizer\n",
        "from tensorflow.keras.preprocessing.sequence import pad_sequences\n",
        "from tensorflow.keras.models import Sequential\n",
        "from tensorflow.keras.layers import Embedding, LSTM, Dense, Dropout\n",
        "from sklearn.metrics import confusion_matrix, classification_report\n",
        "import seaborn as sns\n",
        "\n",
        "# 1. Загрузка и подготовка данных (ваш код)\n",
        "def read_text(file_name):\n",
        "    with open(file_name, 'r', encoding='utf-8') as f:\n",
        "        text = f.read().replace(\"\\n\", \" \")\n",
        "    return text\n",
        "\n",
        "import re\n",
        "from nltk.corpus import stopwords\n",
        "from nltk.stem import WordNetLemmatizer\n",
        "import nltk\n",
        "\n",
        "nltk.download('stopwords')\n",
        "nltk.download('wordnet')\n",
        "\n",
        "stop_words = set(stopwords.words('russian'))\n",
        "lemmatizer = WordNetLemmatizer()\n",
        "\n",
        "def clean_text(text):\n",
        "    text = re.sub(r'[^\\w\\s]', '', text)  # Удаляем пунктуацию\n",
        "    text = re.sub(r'\\d+', '', text)       # Удаляем цифры\n",
        "    text = text.lower()                   # Приводим к нижнему регистру\n",
        "    # Удаляем стоп-слова и лемматизируем\n",
        "    text = ' '.join([lemmatizer.lemmatize(word) for word in text.split() if word not in stop_words])\n",
        "    return text\n",
        "\n",
        "neg_text = read_text('/content/tesla/Негативный отзыв.txt')\n",
        "pos_text = read_text('/content/tesla/Позитивный отзыв.txt')\n",
        "\n",
        "# Применяем ко всем текстам\n",
        "#neg_reviews = [clean_text(neg_text) for t in neg_text]\n",
        "#pos_reviews = [clean_text(pos_text) for t in pos_text]\n",
        "\n",
        "neg_reviews = [s.strip() for s in neg_text.split('.') if s.strip()]\n",
        "pos_reviews = [s.strip() for s in pos_text.split('.') if s.strip()]\n",
        "\n",
        "# Балансировка классов\n",
        "min_len = min(len(neg_reviews), len(pos_reviews))\n",
        "neg_reviews = neg_reviews[:min_len]\n",
        "pos_reviews = pos_reviews[:min_len]\n",
        "\n",
        "texts = neg_reviews + pos_reviews\n",
        "labels = np.array([0]*min_len + [1]*min_len)\n",
        "\n",
        "# 2. Разделение данных\n",
        "X_train, X_test, y_train, y_test = train_test_split(texts, labels, test_size=0.2, random_state=42)\n",
        "\n",
        "# 3. Токенизация\n",
        "max_words = 20000\n",
        "max_len = 200\n",
        "embedding_dim = 128\n",
        "\n",
        "tokenizer = Tokenizer(num_words=max_words)\n",
        "tokenizer.fit_on_texts(X_train)\n",
        "\n",
        "X_train_seq = tokenizer.texts_to_sequences(X_train)\n",
        "X_test_seq = tokenizer.texts_to_sequences(X_test)\n",
        "\n",
        "X_train_pad = pad_sequences(X_train_seq, maxlen=max_len)\n",
        "X_test_pad = pad_sequences(X_test_seq, maxlen=max_len)\n",
        "\n",
        "from tensorflow.keras.layers import Bidirectional\n",
        "\n",
        "from tensorflow.keras.layers import Conv1D, GlobalMaxPooling1D\n",
        "\n",
        "model = Sequential([\n",
        "    Embedding(input_dim=max_words, output_dim=64),\n",
        "    Conv1D(64, 3, activation='relu'),  # Сначала ищем N-граммы\n",
        "    Bidirectional(LSTM(64, return_sequences=True)),\n",
        "    Dropout(0.5),\n",
        "    Bidirectional(LSTM(32)),\n",
        "    Dense(1, activation='sigmoid')\n",
        "])\n",
        "\n",
        "model.compile(optimizer='adam', loss='binary_crossentropy', metrics=['accuracy'])\n",
        "model.build(input_shape=(None, max_len))  # Явно указываем входную форму\n",
        "model.summary()\n",
        "\n",
        "# ... (предыдущий код до обучения модели)\n",
        "\n",
        "# Обучаем модель\n",
        "history = model.fit(\n",
        "    X_train_pad, y_train,\n",
        "    epochs=20,\n",
        "    batch_size=32,\n",
        "    validation_data=(X_test_pad, y_test)\n",
        ")\n",
        "\n",
        "# Оцениваем точность\n",
        "test_loss, test_acc = model.evaluate(X_test_pad, y_test)\n",
        "print(f\"\\nТочность на тестовых данных: {test_acc:.4f}\")\n",
        "\n",
        "# Предсказания модели\n",
        "y_pred_proba = model.predict(X_test_pad)\n",
        "y_pred = (y_pred_proba > 0.5).astype(int)\n",
        "\n",
        "# Confusion Matrix\n",
        "cm = confusion_matrix(y_test, y_pred)\n",
        "plt.figure(figsize=(6, 6))\n",
        "sns.heatmap(cm, annot=True, fmt='d', cmap='Blues',\n",
        "            xticklabels=class_names, yticklabels=class_names)\n",
        "plt.xlabel('Предсказанные метки')\n",
        "plt.ylabel('Истинные метки')\n",
        "plt.title('Confusion Matrix')\n",
        "plt.show()\n",
        "\n",
        "# Classification Report (точность, полнота, F1)\n",
        "print(\"\\nClassification Report:\")\n",
        "print(classification_report(y_test, y_pred, target_names=class_names))\n",
        "\n",
        "test_loss, test_acc = model.evaluate(X_test_pad, y_test)\n",
        "print(f\"\\nFinal Test Accuracy: {test_acc:.4f}\")"
      ],
      "metadata": {
        "colab": {
          "base_uri": "https://localhost:8080/",
          "height": 1000
        },
        "id": "UTi9cBSXE7Cy",
        "outputId": "cce73d2b-83d2-4c48-f737-074285863edb"
      },
      "execution_count": null,
      "outputs": [
        {
          "output_type": "stream",
          "name": "stderr",
          "text": [
            "[nltk_data] Downloading package stopwords to /root/nltk_data...\n",
            "[nltk_data]   Unzipping corpora/stopwords.zip.\n",
            "[nltk_data] Downloading package wordnet to /root/nltk_data...\n"
          ]
        },
        {
          "output_type": "display_data",
          "data": {
            "text/plain": [
              "\u001b[1mModel: \"sequential\"\u001b[0m\n"
            ],
            "text/html": [
              "<pre style=\"white-space:pre;overflow-x:auto;line-height:normal;font-family:Menlo,'DejaVu Sans Mono',consolas,'Courier New',monospace\"><span style=\"font-weight: bold\">Model: \"sequential\"</span>\n",
              "</pre>\n"
            ]
          },
          "metadata": {}
        },
        {
          "output_type": "display_data",
          "data": {
            "text/plain": [
              "┏━━━━━━━━━━━━━━━━━━━━━━━━━━━━━━━━━┳━━━━━━━━━━━━━━━━━━━━━━━━┳━━━━━━━━━━━━━━━┓\n",
              "┃\u001b[1m \u001b[0m\u001b[1mLayer (type)                   \u001b[0m\u001b[1m \u001b[0m┃\u001b[1m \u001b[0m\u001b[1mOutput Shape          \u001b[0m\u001b[1m \u001b[0m┃\u001b[1m \u001b[0m\u001b[1m      Param #\u001b[0m\u001b[1m \u001b[0m┃\n",
              "┡━━━━━━━━━━━━━━━━━━━━━━━━━━━━━━━━━╇━━━━━━━━━━━━━━━━━━━━━━━━╇━━━━━━━━━━━━━━━┩\n",
              "│ embedding (\u001b[38;5;33mEmbedding\u001b[0m)           │ (\u001b[38;5;45mNone\u001b[0m, \u001b[38;5;34m200\u001b[0m, \u001b[38;5;34m64\u001b[0m)        │     \u001b[38;5;34m1,280,000\u001b[0m │\n",
              "├─────────────────────────────────┼────────────────────────┼───────────────┤\n",
              "│ conv1d (\u001b[38;5;33mConv1D\u001b[0m)                 │ (\u001b[38;5;45mNone\u001b[0m, \u001b[38;5;34m198\u001b[0m, \u001b[38;5;34m64\u001b[0m)        │        \u001b[38;5;34m12,352\u001b[0m │\n",
              "├─────────────────────────────────┼────────────────────────┼───────────────┤\n",
              "│ bidirectional (\u001b[38;5;33mBidirectional\u001b[0m)   │ (\u001b[38;5;45mNone\u001b[0m, \u001b[38;5;34m198\u001b[0m, \u001b[38;5;34m128\u001b[0m)       │        \u001b[38;5;34m66,048\u001b[0m │\n",
              "├─────────────────────────────────┼────────────────────────┼───────────────┤\n",
              "│ dropout (\u001b[38;5;33mDropout\u001b[0m)               │ (\u001b[38;5;45mNone\u001b[0m, \u001b[38;5;34m198\u001b[0m, \u001b[38;5;34m128\u001b[0m)       │             \u001b[38;5;34m0\u001b[0m │\n",
              "├─────────────────────────────────┼────────────────────────┼───────────────┤\n",
              "│ bidirectional_1 (\u001b[38;5;33mBidirectional\u001b[0m) │ (\u001b[38;5;45mNone\u001b[0m, \u001b[38;5;34m64\u001b[0m)             │        \u001b[38;5;34m41,216\u001b[0m │\n",
              "├─────────────────────────────────┼────────────────────────┼───────────────┤\n",
              "│ dense (\u001b[38;5;33mDense\u001b[0m)                   │ (\u001b[38;5;45mNone\u001b[0m, \u001b[38;5;34m1\u001b[0m)              │            \u001b[38;5;34m65\u001b[0m │\n",
              "└─────────────────────────────────┴────────────────────────┴───────────────┘\n"
            ],
            "text/html": [
              "<pre style=\"white-space:pre;overflow-x:auto;line-height:normal;font-family:Menlo,'DejaVu Sans Mono',consolas,'Courier New',monospace\">┏━━━━━━━━━━━━━━━━━━━━━━━━━━━━━━━━━┳━━━━━━━━━━━━━━━━━━━━━━━━┳━━━━━━━━━━━━━━━┓\n",
              "┃<span style=\"font-weight: bold\"> Layer (type)                    </span>┃<span style=\"font-weight: bold\"> Output Shape           </span>┃<span style=\"font-weight: bold\">       Param # </span>┃\n",
              "┡━━━━━━━━━━━━━━━━━━━━━━━━━━━━━━━━━╇━━━━━━━━━━━━━━━━━━━━━━━━╇━━━━━━━━━━━━━━━┩\n",
              "│ embedding (<span style=\"color: #0087ff; text-decoration-color: #0087ff\">Embedding</span>)           │ (<span style=\"color: #00d7ff; text-decoration-color: #00d7ff\">None</span>, <span style=\"color: #00af00; text-decoration-color: #00af00\">200</span>, <span style=\"color: #00af00; text-decoration-color: #00af00\">64</span>)        │     <span style=\"color: #00af00; text-decoration-color: #00af00\">1,280,000</span> │\n",
              "├─────────────────────────────────┼────────────────────────┼───────────────┤\n",
              "│ conv1d (<span style=\"color: #0087ff; text-decoration-color: #0087ff\">Conv1D</span>)                 │ (<span style=\"color: #00d7ff; text-decoration-color: #00d7ff\">None</span>, <span style=\"color: #00af00; text-decoration-color: #00af00\">198</span>, <span style=\"color: #00af00; text-decoration-color: #00af00\">64</span>)        │        <span style=\"color: #00af00; text-decoration-color: #00af00\">12,352</span> │\n",
              "├─────────────────────────────────┼────────────────────────┼───────────────┤\n",
              "│ bidirectional (<span style=\"color: #0087ff; text-decoration-color: #0087ff\">Bidirectional</span>)   │ (<span style=\"color: #00d7ff; text-decoration-color: #00d7ff\">None</span>, <span style=\"color: #00af00; text-decoration-color: #00af00\">198</span>, <span style=\"color: #00af00; text-decoration-color: #00af00\">128</span>)       │        <span style=\"color: #00af00; text-decoration-color: #00af00\">66,048</span> │\n",
              "├─────────────────────────────────┼────────────────────────┼───────────────┤\n",
              "│ dropout (<span style=\"color: #0087ff; text-decoration-color: #0087ff\">Dropout</span>)               │ (<span style=\"color: #00d7ff; text-decoration-color: #00d7ff\">None</span>, <span style=\"color: #00af00; text-decoration-color: #00af00\">198</span>, <span style=\"color: #00af00; text-decoration-color: #00af00\">128</span>)       │             <span style=\"color: #00af00; text-decoration-color: #00af00\">0</span> │\n",
              "├─────────────────────────────────┼────────────────────────┼───────────────┤\n",
              "│ bidirectional_1 (<span style=\"color: #0087ff; text-decoration-color: #0087ff\">Bidirectional</span>) │ (<span style=\"color: #00d7ff; text-decoration-color: #00d7ff\">None</span>, <span style=\"color: #00af00; text-decoration-color: #00af00\">64</span>)             │        <span style=\"color: #00af00; text-decoration-color: #00af00\">41,216</span> │\n",
              "├─────────────────────────────────┼────────────────────────┼───────────────┤\n",
              "│ dense (<span style=\"color: #0087ff; text-decoration-color: #0087ff\">Dense</span>)                   │ (<span style=\"color: #00d7ff; text-decoration-color: #00d7ff\">None</span>, <span style=\"color: #00af00; text-decoration-color: #00af00\">1</span>)              │            <span style=\"color: #00af00; text-decoration-color: #00af00\">65</span> │\n",
              "└─────────────────────────────────┴────────────────────────┴───────────────┘\n",
              "</pre>\n"
            ]
          },
          "metadata": {}
        },
        {
          "output_type": "display_data",
          "data": {
            "text/plain": [
              "\u001b[1m Total params: \u001b[0m\u001b[38;5;34m1,399,681\u001b[0m (5.34 MB)\n"
            ],
            "text/html": [
              "<pre style=\"white-space:pre;overflow-x:auto;line-height:normal;font-family:Menlo,'DejaVu Sans Mono',consolas,'Courier New',monospace\"><span style=\"font-weight: bold\"> Total params: </span><span style=\"color: #00af00; text-decoration-color: #00af00\">1,399,681</span> (5.34 MB)\n",
              "</pre>\n"
            ]
          },
          "metadata": {}
        },
        {
          "output_type": "display_data",
          "data": {
            "text/plain": [
              "\u001b[1m Trainable params: \u001b[0m\u001b[38;5;34m1,399,681\u001b[0m (5.34 MB)\n"
            ],
            "text/html": [
              "<pre style=\"white-space:pre;overflow-x:auto;line-height:normal;font-family:Menlo,'DejaVu Sans Mono',consolas,'Courier New',monospace\"><span style=\"font-weight: bold\"> Trainable params: </span><span style=\"color: #00af00; text-decoration-color: #00af00\">1,399,681</span> (5.34 MB)\n",
              "</pre>\n"
            ]
          },
          "metadata": {}
        },
        {
          "output_type": "display_data",
          "data": {
            "text/plain": [
              "\u001b[1m Non-trainable params: \u001b[0m\u001b[38;5;34m0\u001b[0m (0.00 B)\n"
            ],
            "text/html": [
              "<pre style=\"white-space:pre;overflow-x:auto;line-height:normal;font-family:Menlo,'DejaVu Sans Mono',consolas,'Courier New',monospace\"><span style=\"font-weight: bold\"> Non-trainable params: </span><span style=\"color: #00af00; text-decoration-color: #00af00\">0</span> (0.00 B)\n",
              "</pre>\n"
            ]
          },
          "metadata": {}
        },
        {
          "output_type": "stream",
          "name": "stdout",
          "text": [
            "Epoch 1/20\n",
            "\u001b[1m62/62\u001b[0m \u001b[32m━━━━━━━━━━━━━━━━━━━━\u001b[0m\u001b[37m\u001b[0m \u001b[1m9s\u001b[0m 41ms/step - accuracy: 0.5023 - loss: 0.6939 - val_accuracy: 0.6048 - val_loss: 0.6832\n",
            "Epoch 2/20\n",
            "\u001b[1m62/62\u001b[0m \u001b[32m━━━━━━━━━━━━━━━━━━━━\u001b[0m\u001b[37m\u001b[0m \u001b[1m2s\u001b[0m 29ms/step - accuracy: 0.7676 - loss: 0.5669 - val_accuracy: 0.7077 - val_loss: 0.5978\n",
            "Epoch 3/20\n",
            "\u001b[1m62/62\u001b[0m \u001b[32m━━━━━━━━━━━━━━━━━━━━\u001b[0m\u001b[37m\u001b[0m \u001b[1m2s\u001b[0m 29ms/step - accuracy: 0.9337 - loss: 0.1882 - val_accuracy: 0.6774 - val_loss: 0.6766\n",
            "Epoch 4/20\n",
            "\u001b[1m62/62\u001b[0m \u001b[32m━━━━━━━━━━━━━━━━━━━━\u001b[0m\u001b[37m\u001b[0m \u001b[1m2s\u001b[0m 29ms/step - accuracy: 0.9818 - loss: 0.0720 - val_accuracy: 0.6956 - val_loss: 1.0718\n",
            "Epoch 5/20\n",
            "\u001b[1m62/62\u001b[0m \u001b[32m━━━━━━━━━━━━━━━━━━━━\u001b[0m\u001b[37m\u001b[0m \u001b[1m2s\u001b[0m 29ms/step - accuracy: 0.9903 - loss: 0.0292 - val_accuracy: 0.6734 - val_loss: 1.2457\n",
            "Epoch 6/20\n",
            "\u001b[1m62/62\u001b[0m \u001b[32m━━━━━━━━━━━━━━━━━━━━\u001b[0m\u001b[37m\u001b[0m \u001b[1m2s\u001b[0m 29ms/step - accuracy: 0.9915 - loss: 0.0243 - val_accuracy: 0.6613 - val_loss: 1.3190\n",
            "Epoch 7/20\n",
            "\u001b[1m62/62\u001b[0m \u001b[32m━━━━━━━━━━━━━━━━━━━━\u001b[0m\u001b[37m\u001b[0m \u001b[1m2s\u001b[0m 29ms/step - accuracy: 0.9938 - loss: 0.0149 - val_accuracy: 0.6774 - val_loss: 1.4002\n",
            "Epoch 8/20\n",
            "\u001b[1m62/62\u001b[0m \u001b[32m━━━━━━━━━━━━━━━━━━━━\u001b[0m\u001b[37m\u001b[0m \u001b[1m2s\u001b[0m 28ms/step - accuracy: 0.9943 - loss: 0.0197 - val_accuracy: 0.6855 - val_loss: 1.4669\n",
            "Epoch 9/20\n",
            "\u001b[1m62/62\u001b[0m \u001b[32m━━━━━━━━━━━━━━━━━━━━\u001b[0m\u001b[37m\u001b[0m \u001b[1m2s\u001b[0m 31ms/step - accuracy: 0.9950 - loss: 0.0137 - val_accuracy: 0.6714 - val_loss: 1.5628\n",
            "Epoch 10/20\n",
            "\u001b[1m62/62\u001b[0m \u001b[32m━━━━━━━━━━━━━━━━━━━━\u001b[0m\u001b[37m\u001b[0m \u001b[1m2s\u001b[0m 29ms/step - accuracy: 0.9959 - loss: 0.0136 - val_accuracy: 0.6754 - val_loss: 1.6130\n",
            "Epoch 11/20\n",
            "\u001b[1m62/62\u001b[0m \u001b[32m━━━━━━━━━━━━━━━━━━━━\u001b[0m\u001b[37m\u001b[0m \u001b[1m2s\u001b[0m 29ms/step - accuracy: 0.9957 - loss: 0.0161 - val_accuracy: 0.6714 - val_loss: 1.6365\n",
            "Epoch 12/20\n",
            "\u001b[1m62/62\u001b[0m \u001b[32m━━━━━━━━━━━━━━━━━━━━\u001b[0m\u001b[37m\u001b[0m \u001b[1m2s\u001b[0m 29ms/step - accuracy: 0.9951 - loss: 0.0105 - val_accuracy: 0.6714 - val_loss: 1.6931\n",
            "Epoch 13/20\n",
            "\u001b[1m62/62\u001b[0m \u001b[32m━━━━━━━━━━━━━━━━━━━━\u001b[0m\u001b[37m\u001b[0m \u001b[1m2s\u001b[0m 28ms/step - accuracy: 0.9973 - loss: 0.0088 - val_accuracy: 0.6714 - val_loss: 1.6985\n",
            "Epoch 14/20\n",
            "\u001b[1m62/62\u001b[0m \u001b[32m━━━━━━━━━━━━━━━━━━━━\u001b[0m\u001b[37m\u001b[0m \u001b[1m2s\u001b[0m 28ms/step - accuracy: 0.9942 - loss: 0.0095 - val_accuracy: 0.6734 - val_loss: 1.7087\n",
            "Epoch 15/20\n",
            "\u001b[1m62/62\u001b[0m \u001b[32m━━━━━━━━━━━━━━━━━━━━\u001b[0m\u001b[37m\u001b[0m \u001b[1m2s\u001b[0m 30ms/step - accuracy: 0.9967 - loss: 0.0079 - val_accuracy: 0.6694 - val_loss: 1.7992\n",
            "Epoch 16/20\n",
            "\u001b[1m62/62\u001b[0m \u001b[32m━━━━━━━━━━━━━━━━━━━━\u001b[0m\u001b[37m\u001b[0m \u001b[1m2s\u001b[0m 28ms/step - accuracy: 0.9966 - loss: 0.0076 - val_accuracy: 0.6835 - val_loss: 1.7498\n",
            "Epoch 17/20\n",
            "\u001b[1m62/62\u001b[0m \u001b[32m━━━━━━━━━━━━━━━━━━━━\u001b[0m\u001b[37m\u001b[0m \u001b[1m2s\u001b[0m 28ms/step - accuracy: 0.9975 - loss: 0.0045 - val_accuracy: 0.6855 - val_loss: 1.8945\n",
            "Epoch 18/20\n",
            "\u001b[1m62/62\u001b[0m \u001b[32m━━━━━━━━━━━━━━━━━━━━\u001b[0m\u001b[37m\u001b[0m \u001b[1m2s\u001b[0m 29ms/step - accuracy: 0.9943 - loss: 0.0077 - val_accuracy: 0.6875 - val_loss: 1.8803\n",
            "Epoch 19/20\n",
            "\u001b[1m62/62\u001b[0m \u001b[32m━━━━━━━━━━━━━━━━━━━━\u001b[0m\u001b[37m\u001b[0m \u001b[1m2s\u001b[0m 28ms/step - accuracy: 0.9925 - loss: 0.0164 - val_accuracy: 0.6492 - val_loss: 1.4295\n",
            "Epoch 20/20\n",
            "\u001b[1m62/62\u001b[0m \u001b[32m━━━━━━━━━━━━━━━━━━━━\u001b[0m\u001b[37m\u001b[0m \u001b[1m2s\u001b[0m 29ms/step - accuracy: 0.9905 - loss: 0.0225 - val_accuracy: 0.6774 - val_loss: 1.4801\n",
            "\u001b[1m16/16\u001b[0m \u001b[32m━━━━━━━━━━━━━━━━━━━━\u001b[0m\u001b[37m\u001b[0m \u001b[1m0s\u001b[0m 12ms/step - accuracy: 0.6642 - loss: 1.4420\n",
            "\n",
            "Точность на тестовых данных: 0.6774\n",
            "\u001b[1m16/16\u001b[0m \u001b[32m━━━━━━━━━━━━━━━━━━━━\u001b[0m\u001b[37m\u001b[0m \u001b[1m1s\u001b[0m 32ms/step\n"
          ]
        },
        {
          "output_type": "display_data",
          "data": {
            "text/plain": [
              "<Figure size 600x600 with 2 Axes>"
            ],
            "image/png": "[encoded data removed]"
          },
          "metadata": {}
        },
        {
          "output_type": "stream",
          "name": "stdout",
          "text": [
            "\n",
            "Classification Report:\n",
            "                  precision    recall  f1-score   support\n",
            "\n",
            "Негативный отзыв       0.66      0.72      0.69       248\n",
            "Позитивный отзыв       0.69      0.63      0.66       248\n",
            "\n",
            "        accuracy                           0.68       496\n",
            "       macro avg       0.68      0.68      0.68       496\n",
            "    weighted avg       0.68      0.68      0.68       496\n",
            "\n",
            "\u001b[1m16/16\u001b[0m \u001b[32m━━━━━━━━━━━━━━━━━━━━\u001b[0m\u001b[37m\u001b[0m \u001b[1m0s\u001b[0m 13ms/step - accuracy: 0.6642 - loss: 1.4420\n",
            "\n",
            "Final Test Accuracy: 0.6774\n"
          ]
        }
      ]
    },
    {
      "cell_type": "markdown",
      "source": [
        "# Задание 2. Решение задачи регрессии с помощью нейронных сетей."
      ],
      "metadata": {
        "id": "V9VzSzYs5dhP"
      }
    },
    {
      "cell_type": "markdown",
      "source": [
        "Дан датасет с результатами проведённых баскетбольных матчей. Необходимо сделать прогноз, сколько всего очков будет набрано обеими командами в матче.\n",
        "\n",
        "Для каждой игры в датасете есть несколько строк, описывающие хронологию матча. В колонке \"info\" одинаковые записи соответствуют одному и тому же матчу.\n",
        "\n",
        "* TOTAL  - результат работы алгоритма предсказания владельцев базы данных.\n",
        "* info   - данные о матче: где, кто с кем играл - текстовые данные.\n",
        "* Минута - минута периода, в которую записываются текущие результаты игры.\n",
        "* Секунда - секунда, в которую записываются текущие результаты игры.\n",
        "* Общая минута - минута матча (не периода, а всего матча), в которую записываются текущие результаты игры.\n",
        "* ftime  - время в секундах, прошедшее с начала матча (т.е. ftime = 'Общая минута'*60 + 'Секунда').\n",
        "* Ком. 1 - сколько мячей забила первая команда на момент записи результатов\n",
        "* Ком. 2 - сколько мячей забила вторая команда на момент записи результатов.\n",
        "\n",
        "* fcount - общая сумма забитых мячей в игре. Причём в каждой из строк, принадлежащей конкретному матчу, указана именнно общая сумма забитых мячей."
      ],
      "metadata": {
        "id": "5vD_Tgs6m1DQ"
      }
    },
    {
      "cell_type": "markdown",
      "source": [
        "\n",
        "Необходимо научить нейросеть предсказывать количество набранных очков в матче (fcount)."
      ],
      "metadata": {
        "id": "5Kb4paHsm7F1"
      }
    },
    {
      "cell_type": "markdown",
      "metadata": {
        "id": "Y1VVhKIH8IVG"
      },
      "source": [
        "Добейтесь средней абсолютной ошибки 17 и менее очков."
      ]
    },
    {
      "cell_type": "markdown",
      "metadata": {
        "id": "C5L189Dd1jHp"
      },
      "source": [
        "### Подготовка  "
      ]
    },
    {
      "cell_type": "code",
      "metadata": {
        "id": "HPU6-yDKisB2",
        "colab": {
          "base_uri": "https://localhost:8080/",
          "height": 206
        },
        "outputId": "e5d8c291-a493-4ca7-f9f6-3561a5090699"
      },
      "source": [
        "# Загрузка из google облака\n",
        "import gdown\n",
        "gdown.download('https://storage.yandexcloud.net/aiueducation/Content/base/l10/basketball.csv', None, quiet=True)\n",
        "\n",
        "# Библиотека для работы с базами\n",
        "import pandas as pd\n",
        "df = pd.read_csv('basketball.csv', encoding= 'cp1251', sep=';', header=0, index_col=0) # Загружаем базу\n",
        "df.head()"
      ],
      "execution_count": null,
      "outputs": [
        {
          "output_type": "execute_result",
          "data": {
            "text/plain": [
              "   TOTAL                                               info  Ком. 1  Ком. 2  \\\n",
              "0   98,5  4081445 Новая Зеландия. Женщины. WBC. Регулярн...       2     0.0   \n",
              "1  100,5  4081445 Новая Зеландия. Женщины. WBC. Регулярн...       2     2.0   \n",
              "2   99,5  4081445 Новая Зеландия. Женщины. WBC. Регулярн...       2     2.0   \n",
              "3   98,5  4081445 Новая Зеландия. Женщины. WBC. Регулярн...       2     2.0   \n",
              "4   95,5  4081445 Новая Зеландия. Женщины. WBC. Регулярн...       2     2.0   \n",
              "\n",
              "   Минута  Общая минута  Секунда  fcount  ftime  \n",
              "0       1           1.0       30      81   90.0  \n",
              "1       1           1.0       45      81  105.0  \n",
              "2       2           2.0        0      81  120.0  \n",
              "3       2           2.0       30      81  150.0  \n",
              "4       3           3.0        0      81  180.0  "
            ],
            "text/html": [
              "\n",
              "  <div id=\"df-d15fc6ce-91df-4936-9854-6e4dd83de766\" class=\"colab-df-container\">\n",
              "    <div>\n",
              "<style scoped>\n",
              "    .dataframe tbody tr th:only-of-type {\n",
              "        vertical-align: middle;\n",
              "    }\n",
              "\n",
              "    .dataframe tbody tr th {\n",
              "        vertical-align: top;\n",
              "    }\n",
              "\n",
              "    .dataframe thead th {\n",
              "        text-align: right;\n",
              "    }\n",
              "</style>\n",
              "<table border=\"1\" class=\"dataframe\">\n",
              "  <thead>\n",
              "    <tr style=\"text-align: right;\">\n",
              "      <th></th>\n",
              "      <th>TOTAL</th>\n",
              "      <th>info</th>\n",
              "      <th>Ком. 1</th>\n",
              "      <th>Ком. 2</th>\n",
              "      <th>Минута</th>\n",
              "      <th>Общая минута</th>\n",
              "      <th>Секунда</th>\n",
              "      <th>fcount</th>\n",
              "      <th>ftime</th>\n",
              "    </tr>\n",
              "  </thead>\n",
              "  <tbody>\n",
              "    <tr>\n",
              "      <th>0</th>\n",
              "      <td>98,5</td>\n",
              "      <td>4081445 Новая Зеландия. Женщины. WBC. Регулярн...</td>\n",
              "      <td>2</td>\n",
              "      <td>0.0</td>\n",
              "      <td>1</td>\n",
              "      <td>1.0</td>\n",
              "      <td>30</td>\n",
              "      <td>81</td>\n",
              "      <td>90.0</td>\n",
              "    </tr>\n",
              "    <tr>\n",
              "      <th>1</th>\n",
              "      <td>100,5</td>\n",
              "      <td>4081445 Новая Зеландия. Женщины. WBC. Регулярн...</td>\n",
              "      <td>2</td>\n",
              "      <td>2.0</td>\n",
              "      <td>1</td>\n",
              "      <td>1.0</td>\n",
              "      <td>45</td>\n",
              "      <td>81</td>\n",
              "      <td>105.0</td>\n",
              "    </tr>\n",
              "    <tr>\n",
              "      <th>2</th>\n",
              "      <td>99,5</td>\n",
              "      <td>4081445 Новая Зеландия. Женщины. WBC. Регулярн...</td>\n",
              "      <td>2</td>\n",
              "      <td>2.0</td>\n",
              "      <td>2</td>\n",
              "      <td>2.0</td>\n",
              "      <td>0</td>\n",
              "      <td>81</td>\n",
              "      <td>120.0</td>\n",
              "    </tr>\n",
              "    <tr>\n",
              "      <th>3</th>\n",
              "      <td>98,5</td>\n",
              "      <td>4081445 Новая Зеландия. Женщины. WBC. Регулярн...</td>\n",
              "      <td>2</td>\n",
              "      <td>2.0</td>\n",
              "      <td>2</td>\n",
              "      <td>2.0</td>\n",
              "      <td>30</td>\n",
              "      <td>81</td>\n",
              "      <td>150.0</td>\n",
              "    </tr>\n",
              "    <tr>\n",
              "      <th>4</th>\n",
              "      <td>95,5</td>\n",
              "      <td>4081445 Новая Зеландия. Женщины. WBC. Регулярн...</td>\n",
              "      <td>2</td>\n",
              "      <td>2.0</td>\n",
              "      <td>3</td>\n",
              "      <td>3.0</td>\n",
              "      <td>0</td>\n",
              "      <td>81</td>\n",
              "      <td>180.0</td>\n",
              "    </tr>\n",
              "  </tbody>\n",
              "</table>\n",
              "</div>\n",
              "    <div class=\"colab-df-buttons\">\n",
              "\n",
              "  <div class=\"colab-df-container\">\n",
              "    <button class=\"colab-df-convert\" onclick=\"convertToInteractive('df-d15fc6ce-91df-4936-9854-6e4dd83de766')\"\n",
              "            title=\"Convert this dataframe to an interactive table.\"\n",
              "            style=\"display:none;\">\n",
              "\n",
              "  <svg xmlns=\"http://www.w3.org/2000/svg\" height=\"24px\" viewBox=\"0 -960 960 960\">\n",
              "    <path d=\"M120-120v-720h720v720H120Zm60-500h600v-160H180v160Zm220 220h160v-160H400v160Zm0 220h160v-160H400v160ZM180-400h160v-160H180v160Zm440 0h160v-160H620v160ZM180-180h160v-160H180v160Zm440 0h160v-160H620v160Z\"/>\n",
              "  </svg>\n",
              "    </button>\n",
              "\n",
              "  <style>\n",
              "    .colab-df-container {\n",
              "      display:flex;\n",
              "      gap: 12px;\n",
              "    }\n",
              "\n",
              "    .colab-df-convert {\n",
              "      background-color: #E8F0FE;\n",
              "      border: none;\n",
              "      border-radius: 50%;\n",
              "      cursor: pointer;\n",
              "      display: none;\n",
              "      fill: #1967D2;\n",
              "      height: 32px;\n",
              "      padding: 0 0 0 0;\n",
              "      width: 32px;\n",
              "    }\n",
              "\n",
              "    .colab-df-convert:hover {\n",
              "      background-color: #E2EBFA;\n",
              "      box-shadow: 0px 1px 2px rgba(60, 64, 67, 0.3), 0px 1px 3px 1px rgba(60, 64, 67, 0.15);\n",
              "      fill: #174EA6;\n",
              "    }\n",
              "\n",
              "    .colab-df-buttons div {\n",
              "      margin-bottom: 4px;\n",
              "    }\n",
              "\n",
              "    [theme=dark] .colab-df-convert {\n",
              "      background-color: #3B4455;\n",
              "      fill: #D2E3FC;\n",
              "    }\n",
              "\n",
              "    [theme=dark] .colab-df-convert:hover {\n",
              "      background-color: #434B5C;\n",
              "      box-shadow: 0px 1px 3px 1px rgba(0, 0, 0, 0.15);\n",
              "      filter: drop-shadow(0px 1px 2px rgba(0, 0, 0, 0.3));\n",
              "      fill: #FFFFFF;\n",
              "    }\n",
              "  </style>\n",
              "\n",
              "    <script>\n",
              "      const buttonEl =\n",
              "        document.querySelector('#df-d15fc6ce-91df-4936-9854-6e4dd83de766 button.colab-df-convert');\n",
              "      buttonEl.style.display =\n",
              "        google.colab.kernel.accessAllowed ? 'block' : 'none';\n",
              "\n",
              "      async function convertToInteractive(key) {\n",
              "        const element = document.querySelector('#df-d15fc6ce-91df-4936-9854-6e4dd83de766');\n",
              "        const dataTable =\n",
              "          await google.colab.kernel.invokeFunction('convertToInteractive',\n",
              "                                                    [key], {});\n",
              "        if (!dataTable) return;\n",
              "\n",
              "        const docLinkHtml = 'Like what you see? Visit the ' +\n",
              "          '<a target=\"_blank\" href=https://colab.research.google.com/notebooks/data_table.ipynb>data table notebook</a>'\n",
              "          + ' to learn more about interactive tables.';\n",
              "        element.innerHTML = '';\n",
              "        dataTable['output_type'] = 'display_data';\n",
              "        await google.colab.output.renderOutput(dataTable, element);\n",
              "        const docLink = document.createElement('div');\n",
              "        docLink.innerHTML = docLinkHtml;\n",
              "        element.appendChild(docLink);\n",
              "      }\n",
              "    </script>\n",
              "  </div>\n",
              "\n",
              "\n",
              "    <div id=\"df-f2af8f7e-5ccb-4443-a37a-85a123c53b8e\">\n",
              "      <button class=\"colab-df-quickchart\" onclick=\"quickchart('df-f2af8f7e-5ccb-4443-a37a-85a123c53b8e')\"\n",
              "                title=\"Suggest charts\"\n",
              "                style=\"display:none;\">\n",
              "\n",
              "<svg xmlns=\"http://www.w3.org/2000/svg\" height=\"24px\"viewBox=\"0 0 24 24\"\n",
              "     width=\"24px\">\n",
              "    <g>\n",
              "        <path d=\"M19 3H5c-1.1 0-2 .9-2 2v14c0 1.1.9 2 2 2h14c1.1 0 2-.9 2-2V5c0-1.1-.9-2-2-2zM9 17H7v-7h2v7zm4 0h-2V7h2v10zm4 0h-2v-4h2v4z\"/>\n",
              "    </g>\n",
              "</svg>\n",
              "      </button>\n",
              "\n",
              "<style>\n",
              "  .colab-df-quickchart {\n",
              "      --bg-color: #E8F0FE;\n",
              "      --fill-color: #1967D2;\n",
              "      --hover-bg-color: #E2EBFA;\n",
              "      --hover-fill-color: #174EA6;\n",
              "      --disabled-fill-color: #AAA;\n",
              "      --disabled-bg-color: #DDD;\n",
              "  }\n",
              "\n",
              "  [theme=dark] .colab-df-quickchart {\n",
              "      --bg-color: #3B4455;\n",
              "      --fill-color: #D2E3FC;\n",
              "      --hover-bg-color: #434B5C;\n",
              "      --hover-fill-color: #FFFFFF;\n",
              "      --disabled-bg-color: #3B4455;\n",
              "      --disabled-fill-color: #666;\n",
              "  }\n",
              "\n",
              "  .colab-df-quickchart {\n",
              "    background-color: var(--bg-color);\n",
              "    border: none;\n",
              "    border-radius: 50%;\n",
              "    cursor: pointer;\n",
              "    display: none;\n",
              "    fill: var(--fill-color);\n",
              "    height: 32px;\n",
              "    padding: 0;\n",
              "    width: 32px;\n",
              "  }\n",
              "\n",
              "  .colab-df-quickchart:hover {\n",
              "    background-color: var(--hover-bg-color);\n",
              "    box-shadow: 0 1px 2px rgba(60, 64, 67, 0.3), 0 1px 3px 1px rgba(60, 64, 67, 0.15);\n",
              "    fill: var(--button-hover-fill-color);\n",
              "  }\n",
              "\n",
              "  .colab-df-quickchart-complete:disabled,\n",
              "  .colab-df-quickchart-complete:disabled:hover {\n",
              "    background-color: var(--disabled-bg-color);\n",
              "    fill: var(--disabled-fill-color);\n",
              "    box-shadow: none;\n",
              "  }\n",
              "\n",
              "  .colab-df-spinner {\n",
              "    border: 2px solid var(--fill-color);\n",
              "    border-color: transparent;\n",
              "    border-bottom-color: var(--fill-color);\n",
              "    animation:\n",
              "      spin 1s steps(1) infinite;\n",
              "  }\n",
              "\n",
              "  @keyframes spin {\n",
              "    0% {\n",
              "      border-color: transparent;\n",
              "      border-bottom-color: var(--fill-color);\n",
              "      border-left-color: var(--fill-color);\n",
              "    }\n",
              "    20% {\n",
              "      border-color: transparent;\n",
              "      border-left-color: var(--fill-color);\n",
              "      border-top-color: var(--fill-color);\n",
              "    }\n",
              "    30% {\n",
              "      border-color: transparent;\n",
              "      border-left-color: var(--fill-color);\n",
              "      border-top-color: var(--fill-color);\n",
              "      border-right-color: var(--fill-color);\n",
              "    }\n",
              "    40% {\n",
              "      border-color: transparent;\n",
              "      border-right-color: var(--fill-color);\n",
              "      border-top-color: var(--fill-color);\n",
              "    }\n",
              "    60% {\n",
              "      border-color: transparent;\n",
              "      border-right-color: var(--fill-color);\n",
              "    }\n",
              "    80% {\n",
              "      border-color: transparent;\n",
              "      border-right-color: var(--fill-color);\n",
              "      border-bottom-color: var(--fill-color);\n",
              "    }\n",
              "    90% {\n",
              "      border-color: transparent;\n",
              "      border-bottom-color: var(--fill-color);\n",
              "    }\n",
              "  }\n",
              "</style>\n",
              "\n",
              "      <script>\n",
              "        async function quickchart(key) {\n",
              "          const quickchartButtonEl =\n",
              "            document.querySelector('#' + key + ' button');\n",
              "          quickchartButtonEl.disabled = true;  // To prevent multiple clicks.\n",
              "          quickchartButtonEl.classList.add('colab-df-spinner');\n",
              "          try {\n",
              "            const charts = await google.colab.kernel.invokeFunction(\n",
              "                'suggestCharts', [key], {});\n",
              "          } catch (error) {\n",
              "            console.error('Error during call to suggestCharts:', error);\n",
              "          }\n",
              "          quickchartButtonEl.classList.remove('colab-df-spinner');\n",
              "          quickchartButtonEl.classList.add('colab-df-quickchart-complete');\n",
              "        }\n",
              "        (() => {\n",
              "          let quickchartButtonEl =\n",
              "            document.querySelector('#df-f2af8f7e-5ccb-4443-a37a-85a123c53b8e button');\n",
              "          quickchartButtonEl.style.display =\n",
              "            google.colab.kernel.accessAllowed ? 'block' : 'none';\n",
              "        })();\n",
              "      </script>\n",
              "    </div>\n",
              "\n",
              "    </div>\n",
              "  </div>\n"
            ],
            "application/vnd.google.colaboratory.intrinsic+json": {
              "type": "dataframe",
              "variable_name": "df",
              "summary": "{\n  \"name\": \"df\",\n  \"rows\": 52450,\n  \"fields\": [\n    {\n      \"column\": \"TOTAL\",\n      \"properties\": {\n        \"dtype\": \"category\",\n        \"num_unique_values\": 332,\n        \"samples\": [\n          \"84\",\n          \"264\",\n          \"150,5\"\n        ],\n        \"semantic_type\": \"\",\n        \"description\": \"\"\n      }\n    },\n    {\n      \"column\": \"info\",\n      \"properties\": {\n        \"dtype\": \"category\",\n        \"num_unique_values\": 435,\n        \"samples\": [\n          \"4039105 \\u0420\\u043e\\u0441\\u0441\\u0438\\u044f. \\u0416\\u0435\\u043d\\u0449\\u0438\\u043d\\u044b. \\u0421\\u0443\\u043f\\u0435\\u0440\\u043b\\u0438\\u0433\\u0430. 1-\\u0439 \\u0434\\u0438\\u0432\\u0438\\u0437\\u0438\\u043e\\u043d(\\u041b\\u0430\\u0434\\u043e\\u0433\\u0430 - \\u0423\\u0413\\u041c\\u041a-\\u042e\\u043d\\u0438\\u043e\\u0440)\\n\",\n          \"4086847 \\u0413\\u0435\\u0440\\u043c\\u0430\\u043d\\u0438\\u044f. \\u041c\\u0443\\u0436\\u0447\\u0438\\u043d\\u044b. \\u0411\\u0443\\u043d\\u0434\\u0435\\u0441\\u043b\\u0438\\u0433\\u0430(\\u0410\\u0439\\u0441\\u0431\\u0435\\u0440\\u0435\\u043d - \\u0413\\u0435\\u0442\\u0442\\u0438\\u043d\\u0433\\u0435\\u043d)\\n\",\n          \"4167739 \\u0420\\u043e\\u0441\\u0441\\u0438\\u044f. \\u0416\\u0435\\u043d\\u0449\\u0438\\u043d\\u044b. \\u041f\\u0440\\u0435\\u043c\\u044c\\u0435\\u0440-\\u043b\\u0438\\u0433\\u0430. \\u041f\\u043b\\u0435\\u0439-\\u043e\\u0444\\u0444. 3-\\u0435 \\u043c\\u0435\\u0441\\u0442\\u043e(\\u0421\\u043f\\u0430\\u0440\\u0442\\u0430 & \\u041a \\u0412\\u0438\\u0434\\u043d\\u043e\\u0435 - \\u0414\\u0438\\u043d\\u0430\\u043c\\u043e \\u041a\\u0443\\u0440\\u0441\\u043a)\\n\"\n        ],\n        \"semantic_type\": \"\",\n        \"description\": \"\"\n      }\n    },\n    {\n      \"column\": \"\\u041a\\u043e\\u043c. 1\",\n      \"properties\": {\n        \"dtype\": \"number\",\n        \"std\": 24,\n        \"min\": 0,\n        \"max\": 139,\n        \"num_unique_values\": 131,\n        \"samples\": [\n          20,\n          65,\n          36\n        ],\n        \"semantic_type\": \"\",\n        \"description\": \"\"\n      }\n    },\n    {\n      \"column\": \"\\u041a\\u043e\\u043c. 2\",\n      \"properties\": {\n        \"dtype\": \"number\",\n        \"std\": 23.383734502837306,\n        \"min\": 0.0,\n        \"max\": 134.0,\n        \"num_unique_values\": 130,\n        \"samples\": [\n          49.0,\n          57.0,\n          37.0\n        ],\n        \"semantic_type\": \"\",\n        \"description\": \"\"\n      }\n    },\n    {\n      \"column\": \"\\u041c\\u0438\\u043d\\u0443\\u0442\\u0430\",\n      \"properties\": {\n        \"dtype\": \"number\",\n        \"std\": 2,\n        \"min\": 0,\n        \"max\": 12,\n        \"num_unique_values\": 13,\n        \"samples\": [\n          11,\n          5,\n          1\n        ],\n        \"semantic_type\": \"\",\n        \"description\": \"\"\n      }\n    },\n    {\n      \"column\": \"\\u041e\\u0431\\u0449\\u0430\\u044f \\u043c\\u0438\\u043d\\u0443\\u0442\\u0430\",\n      \"properties\": {\n        \"dtype\": \"number\",\n        \"std\": 11.658991621858886,\n        \"min\": 0.0,\n        \"max\": 55.0,\n        \"num_unique_values\": 56,\n        \"samples\": [\n          1.0,\n          7.0,\n          39.0\n        ],\n        \"semantic_type\": \"\",\n        \"description\": \"\"\n      }\n    },\n    {\n      \"column\": \"\\u0421\\u0435\\u043a\\u0443\\u043d\\u0434\\u0430\",\n      \"properties\": {\n        \"dtype\": \"number\",\n        \"std\": 16,\n        \"min\": 0,\n        \"max\": 55,\n        \"num_unique_values\": 12,\n        \"samples\": [\n          25,\n          10,\n          30\n        ],\n        \"semantic_type\": \"\",\n        \"description\": \"\"\n      }\n    },\n    {\n      \"column\": \"fcount\",\n      \"properties\": {\n        \"dtype\": \"number\",\n        \"std\": 24,\n        \"min\": 2,\n        \"max\": 273,\n        \"num_unique_values\": 112,\n        \"samples\": [\n          161,\n          123,\n          176\n        ],\n        \"semantic_type\": \"\",\n        \"description\": \"\"\n      }\n    },\n    {\n      \"column\": \"ftime\",\n      \"properties\": {\n        \"dtype\": \"number\",\n        \"std\": 699.629708532713,\n        \"min\": 5.0,\n        \"max\": 3300.0,\n        \"num_unique_values\": 408,\n        \"samples\": [\n          2220.0,\n          2390.0,\n          2320.0\n        ],\n        \"semantic_type\": \"\",\n        \"description\": \"\"\n      }\n    }\n  ]\n}"
            }
          },
          "metadata": {},
          "execution_count": 10
        }
      ]
    },
    {
      "cell_type": "markdown",
      "metadata": {
        "id": "WppGhbAXCrJ2"
      },
      "source": [
        "Извлекаем текстовые данные из колонки `info` таблицы, помещаем в переменную `data_text`. Выводим длину списка:"
      ]
    },
    {
      "cell_type": "code",
      "metadata": {
        "id": "kqMfqc7VA9AA",
        "colab": {
          "base_uri": "https://localhost:8080/"
        },
        "outputId": "28361d4f-1849-4130-ccc5-3d2236a1da42"
      },
      "source": [
        "data_text = df['info'].values #\n",
        "\n",
        "len(data_text) #"
      ],
      "execution_count": null,
      "outputs": [
        {
          "output_type": "execute_result",
          "data": {
            "text/plain": [
              "52450"
            ]
          },
          "metadata": {},
          "execution_count": 11
        }
      ]
    },
    {
      "cell_type": "markdown",
      "metadata": {
        "id": "5hvulCqhDKg6"
      },
      "source": [
        "Задаем максимальное кол-во слов в словаре, помещаем в переменную все символы, которые хотим вычистить из текста.\n",
        "\n",
        " Токенизируем текстовые данные:"
      ]
    },
    {
      "cell_type": "code",
      "metadata": {
        "id": "e5dpDy4NDFYr"
      },
      "source": [
        "# Импортируем токенайзер\n",
        "from tensorflow.keras.preprocessing.text import Tokenizer\n",
        "\n",
        "maxWordsCount = 5000\n",
        "\n",
        "sim_for_del='!\"#$%&()*+,-./:;<=>?@[\\\\]^_`{|}~\\t\\n'\n",
        "\n",
        "tokenizer = Tokenizer (num_words=maxWordsCount,\n",
        "                       filters=sim_for_del,\n",
        "                       lower=True,\n",
        "                       split=' ',\n",
        "                       oov_token='unknown',\n",
        "                       char_level=False)\n",
        "\n",
        "tokenizer.fit_on_texts(data_text)"
      ],
      "execution_count": null,
      "outputs": []
    },
    {
      "cell_type": "code",
      "metadata": {
        "id": "bz3TreMTDQgo"
      },
      "source": [
        "# Переводим в Эмбеддинг пространство\n",
        "Sequences = tokenizer.texts_to_sequences(data_text)\n",
        "\n",
        "# Вариант  Bag of Words\n",
        "xBOW_text = tokenizer.sequences_to_matrix(Sequences)"
      ],
      "execution_count": null,
      "outputs": []
    },
    {
      "cell_type": "markdown",
      "metadata": {
        "id": "gIxLqUl_EnAX"
      },
      "source": [
        "Преобразуем данные в numpy, подготовим наборы для обучения:"
      ]
    },
    {
      "cell_type": "code",
      "metadata": {
        "id": "-GlIabOhEp8b"
      },
      "source": [
        "# Библиотека работы с массивами\n",
        "import numpy as np\n",
        "\n",
        "xTrain = np.array(df[['Ком. 1','Ком. 2', 'Минута', 'Секунда','ftime']].astype('int'))\n",
        "yTrain = np.array(df['fcount'].astype('int'))"
      ],
      "execution_count": null,
      "outputs": []
    },
    {
      "cell_type": "code",
      "metadata": {
        "colab": {
          "base_uri": "https://localhost:8080/"
        },
        "id": "qCEAj--dEBO8",
        "outputId": "4bb7c361-c324-483c-a26a-377a68f51c82"
      },
      "source": [
        "print(xTrain.shape)\n",
        "print(yTrain.shape)\n",
        "print(xBOW_text.shape)"
      ],
      "execution_count": null,
      "outputs": [
        {
          "output_type": "stream",
          "name": "stdout",
          "text": [
            "(52450, 5)\n",
            "(52450,)\n",
            "(52450, 5000)\n"
          ]
        }
      ]
    },
    {
      "cell_type": "code",
      "metadata": {
        "id": "lUqj01oB8nXa"
      },
      "source": [
        "# Функция по проверке ошибки\n",
        "\n",
        "def check_MAE_predictl_DubbleInput (model,\n",
        "                                    x_data,\n",
        "                                    x_data_text,\n",
        "                                    y_data_not_scaled,\n",
        "                                    plot=False):\n",
        "\n",
        "  mae = 0 # Инициализируем начальное значение ошибки\n",
        "  y_pred = (model.predict([x_data,x_data_text])).squeeze()\n",
        "\n",
        "  for n in range (0,len(x_data)):\n",
        "    mae += abs(y_data_not_scaled[n] - y_pred[n]) # Увеличиваем значение ошибки для текущего элемента\n",
        "  mae /= len(x_data) # Считаем среднее значение\n",
        "  print('Среднаяя абслолютная ошибка {:.3f} очков это {:.3f}% от общей выборки в {} игры'.format(mae, (mae/y_data_not_scaled.mean(axis=0))*100,len(x_data)))\n",
        "\n",
        "  if plot:\n",
        "     plt.scatter(y_data_not_scaled, y_pred)\n",
        "     plt.xlabel('Правильные значение')\n",
        "     plt.ylabel('Предсказания')\n",
        "     plt.axis('equal')\n",
        "     plt.xlim(plt.xlim())\n",
        "     plt.ylim(plt.ylim())\n",
        "     plt.plot([0, 250], [0, 250])\n",
        "     plt.show()"
      ],
      "execution_count": null,
      "outputs": []
    },
    {
      "cell_type": "code",
      "metadata": {
        "id": "dvmmCQLFwf4e"
      },
      "source": [
        "# ваше решение"
      ],
      "execution_count": null,
      "outputs": []
    },
    {
      "cell_type": "markdown",
      "source": [
        "# Задание 3. Обработка временных рядов с помощью нейронных сетей."
      ],
      "metadata": {
        "id": "f_K-sjD_y0bI"
      }
    },
    {
      "cell_type": "markdown",
      "metadata": {
        "id": "l2JCHSv9hYv7"
      },
      "source": [
        "Обучите нейронную сеть для прогноза стоимости акций на данных, которые необходимо подготовить по инструкции, прописанной ниже.\n",
        "\n",
        "Используйте базу акций Лукойла.\n",
        "\n",
        "Задача 1. Сделайте несколько усовершенствований в предсказании временного ряда.\n",
        "Добавьте к исходному сигналу расширенные данные:\n",
        "\n",
        "* попарные разности каналов\n",
        "* модули попарных разностей каналов\n",
        "* попарные произведения каналов\n",
        "* обратное значение каналов x_new = 1/(x + 1e-3)\n",
        "* первые производные каналов (x[n] - x[n-1])\n",
        "* вторые производные каналов (x[n] - 2*x[n-1] + x[n-2])\n",
        "\n",
        "Задача 2. Примените абсолютно новый подход. Можно использовать исходный датасет без расширения (5 базовых столбцов). Сделайте бОльший “просмотр сети в прошлое”, при формировании входного сигнала используйте:\n",
        "\n",
        "* 100 точек с шагом назад по 1,\n",
        "\n",
        "* 100 точек с шагом назад по 10 (или сами точки, или среднее по отрезку в 10 точек).\n",
        "* Объедините эти точки"
      ]
    },
    {
      "cell_type": "markdown",
      "source": [
        "![image.png](data:image/png;base64,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)"
      ],
      "metadata": {
        "id": "Nr36wj4nrLD4"
      }
    },
    {
      "cell_type": "markdown",
      "metadata": {
        "id": "pTBEwg0xSHS3"
      },
      "source": [
        "## Подготовка"
      ]
    },
    {
      "cell_type": "code",
      "metadata": {
        "id": "syKVMhY7lFhr"
      },
      "source": [
        "# Работа с массивами\n",
        "import numpy as np\n",
        "\n",
        "# Работа с таблицами\n",
        "import pandas as pd\n",
        "\n",
        "# Классы-конструкторы моделей нейронных сетей\n",
        "from tensorflow.keras.models import Sequential, Model\n",
        "\n",
        "# Основные слои\n",
        "from tensorflow.keras.layers import concatenate, Input, Dense, Dropout, BatchNormalization, Flatten, Conv1D, LSTM, MaxPooling1D\n",
        "\n",
        "# Оптимизаторы\n",
        "from tensorflow.keras.optimizers import Adam\n",
        "\n",
        "# Генератор выборки временных рядов\n",
        "from tensorflow.keras.preprocessing.sequence import TimeseriesGenerator\n",
        "\n",
        "# Нормировщики\n",
        "from sklearn.preprocessing import StandardScaler, MinMaxScaler\n",
        "\n",
        "# Коллбэк\n",
        "from tensorflow.keras.callbacks import LearningRateScheduler\n",
        "\n",
        "# Загрузка датасетов из облака google\n",
        "import gdown\n",
        "\n",
        "# Отрисовка графиков\n",
        "import matplotlib.pyplot as plt\n",
        "\n",
        "# Отрисовка графики в ячейке colab\n",
        "%matplotlib inline\n",
        "\n",
        "# Отключение предупреждений\n",
        "import warnings\n",
        "warnings.filterwarnings('ignore')"
      ],
      "execution_count": null,
      "outputs": []
    },
    {
      "cell_type": "code",
      "metadata": {
        "id": "XQuvUgLBlLo3"
      },
      "source": [
        "# Назначение размера и стиля графиков по умолчанию\n",
        "\n",
        "from pylab import rcParams\n",
        "plt.style.use('ggplot')\n",
        "rcParams['figure.figsize'] = (14, 7)"
      ],
      "execution_count": null,
      "outputs": []
    },
    {
      "cell_type": "code",
      "metadata": {
        "colab": {
          "base_uri": "https://localhost:8080/"
        },
        "id": "ktuO3f6Sldol",
        "outputId": "75ae5330-8178-4582-af4a-7e1251c0cd88"
      },
      "source": [
        "# Загрузка датасетов из облака\n",
        "\n",
        "gdown.download('https://storage.yandexcloud.net/aiueducation/Content/base/l11/16_17.csv', None, quiet=True)\n",
        "gdown.download('https://storage.yandexcloud.net/aiueducation/Content/base/l11/18_19.csv', None, quiet=True)"
      ],
      "execution_count": null,
      "outputs": [
        {
          "output_type": "execute_result",
          "data": {
            "text/plain": [
              "'18_19.csv'"
            ],
            "application/vnd.google.colaboratory.intrinsic+json": {
              "type": "string"
            }
          },
          "metadata": {},
          "execution_count": 20
        }
      ]
    },
    {
      "cell_type": "code",
      "metadata": {
        "id": "KyycG_13lv05"
      },
      "source": [
        "# Чтение данных в таблицы с удалением ненужных столбцов\n",
        "\n",
        "data16_17 = pd.read_csv('16_17.csv', sep=';').drop(columns=['DATE', 'TIME'])\n",
        "data18_19 = pd.read_csv('18_19.csv', sep=';').drop(columns=['DATE', 'TIME'])"
      ],
      "execution_count": null,
      "outputs": []
    },
    {
      "cell_type": "code",
      "metadata": {
        "colab": {
          "base_uri": "https://localhost:8080/"
        },
        "id": "TabHRelhl86T",
        "outputId": "ac75b760-528d-4e4c-9e43-d4e884a18968"
      },
      "source": [
        "# Просмотр размерностей получившихся таблиц\n",
        "\n",
        "print(data16_17.shape)\n",
        "print(data18_19.shape)"
      ],
      "execution_count": null,
      "outputs": [
        {
          "output_type": "stream",
          "name": "stdout",
          "text": [
            "(263925, 5)\n",
            "(217947, 5)\n"
          ]
        }
      ]
    },
    {
      "cell_type": "code",
      "metadata": {
        "colab": {
          "base_uri": "https://localhost:8080/"
        },
        "id": "yI5-obMzl9H0",
        "outputId": "8c35fe9c-5fb9-42f0-fd2a-9de20890f425"
      },
      "source": [
        "# Создание общего набора данных из двух датасетов\n",
        "\n",
        "data = pd.concat([data16_17,data18_19])   # Объединение датасетов\n",
        "data = data.reset_index(drop = True)      # Обнуление индексов\n",
        "\n",
        "# Проверка формы данных\n",
        "print(data.shape)"
      ],
      "execution_count": null,
      "outputs": [
        {
          "output_type": "stream",
          "name": "stdout",
          "text": [
            "(481872, 5)\n"
          ]
        }
      ]
    },
    {
      "cell_type": "code",
      "metadata": {
        "id": "Fopi2EUZwry0",
        "colab": {
          "base_uri": "https://localhost:8080/"
        },
        "outputId": "f4cf707b-bf21-4885-adc6-96764f1c5fa7"
      },
      "source": [
        "# Получение названий столбцов\n",
        "\n",
        "col = data.columns\n",
        "print(col)"
      ],
      "execution_count": null,
      "outputs": [
        {
          "output_type": "stream",
          "name": "stdout",
          "text": [
            "Index(['OPEN', 'MAX', 'MIN', 'CLOSE', 'VOLUME'], dtype='object')\n"
          ]
        }
      ]
    },
    {
      "cell_type": "code",
      "metadata": {
        "id": "bQQbLhbnwiM_"
      },
      "source": [
        "# Задание циклов для столбцов таким образом, чтобы происходил перебор всех возможных пар:\n",
        "# Перебор индексов массива с именами столбцов 'OPEN', 'MAX', 'MIN', 'CLOSE', 'VOLUME',\n",
        "# получая пары 'OPEN' и 'MAX', 'OPEN' и 'MIN', 'OPEN' и 'CLOSE' ..., 'MAX' и 'MIN', 'MAX' и 'CLOSE' и т.д\n",
        "\n",
        "for i in range(col.shape[0]): # Для всех пар\n",
        "    for j in range(i + 1 , col.shape[0]): # Расчет\n",
        "        data[col[i] + '-' + col[j]] = data[col[i]] - data[col[j]] # Разности\n",
        "        data['|' + col[i] + '-' + col[j] + '|'] = abs(data[col[i]] - data[col[j]]) # Модулей разностей\n",
        "        data[col[i] + '*' + col[j]] = data[col[i]] * data[col[j]] # Произведения\n",
        "\n",
        "# Для каждого столбца 'OPEN', 'MAX', 'MIN', 'CLOSE', 'VOLUME' расчет:\n",
        "for i in col:\n",
        "    # Обратные значения. 1e-3 в формуле нужно, чтобы случайно не разделить на 0\n",
        "    data['Обратный ' + i] = 1 / (data[i] + 1e-3)\n",
        "    # Создание пустого столбца\n",
        "    data['Производная от ' + i] = np.nan\n",
        "    # При помощи срезов расчет первых производных, .reset_index(drop=True) нужен для корректных расчетов\n",
        "    data['Производная от ' + i][1:] = data[i][1:].reset_index(drop=True) - data[i][:-1].reset_index(drop=True)\n",
        "    # Создание пустого столбца\n",
        "    data['Вторая производная от ' + i] = np.nan\n",
        "    # При помощи срезов расчет вторых производных\n",
        "    data['Вторая производная от ' + i][2:] = data[i][2:].reset_index(drop=True) - 2 * data[i][1:-1].reset_index(drop=True) + data[i][:-2].reset_index(drop=True)\n"
      ],
      "execution_count": null,
      "outputs": []
    },
    {
      "cell_type": "code",
      "metadata": {
        "id": "QqZi-MIOyFQs",
        "colab": {
          "base_uri": "https://localhost:8080/"
        },
        "outputId": "9bb90b2d-5cc3-47d5-91bb-c36dfa2a681a"
      },
      "source": [
        "# Просмотр результатов\n",
        "data"
      ],
      "execution_count": null,
      "outputs": [
        {
          "output_type": "execute_result",
          "data": {
            "text/plain": [
              "          OPEN     MAX     MIN   CLOSE  VOLUME  OPEN-MAX  |OPEN-MAX|  \\\n",
              "0       2351.0  2355.8  2350.0  2350.0    2547      -4.8         4.8   \n",
              "1       2352.9  2355.7  2350.0  2355.7     195      -2.8         2.8   \n",
              "2       2355.6  2356.0  2351.4  2354.1     257      -0.4         0.4   \n",
              "3       2354.5  2355.0  2351.2  2353.7     763      -0.5         0.5   \n",
              "4       2353.1  2353.9  2353.1  2353.6     231      -0.8         0.8   \n",
              "...        ...     ...     ...     ...     ...       ...         ...   \n",
              "481867  5183.5  5183.5  5183.5  5183.5   31523       0.0         0.0   \n",
              "481868  5183.5  5183.5  5183.5  5183.5    5090       0.0         0.0   \n",
              "481869  5183.5  5183.5  5183.5  5183.5     230       0.0         0.0   \n",
              "481870  5183.5  5183.5  5183.5  5183.5       5       0.0         0.0   \n",
              "481871  5183.5  5183.5  5183.5  5183.5     994       0.0         0.0   \n",
              "\n",
              "           OPEN*MAX  OPEN-MIN  |OPEN-MIN|  ...  Вторая производная от MAX  \\\n",
              "0        5538485.80       1.0         1.0  ...                        NaN   \n",
              "1        5542726.53       2.9         2.9  ...                        NaN   \n",
              "2        5549793.60       4.2         4.2  ...                        0.4   \n",
              "3        5544847.50       3.3         3.3  ...                       -1.3   \n",
              "4        5538962.09       0.0         0.0  ...                       -0.1   \n",
              "...             ...       ...         ...  ...                        ...   \n",
              "481867  26868672.25       0.0         0.0  ...                       11.5   \n",
              "481868  26868672.25       0.0         0.0  ...                      -11.5   \n",
              "481869  26868672.25       0.0         0.0  ...                        0.0   \n",
              "481870  26868672.25       0.0         0.0  ...                        0.0   \n",
              "481871  26868672.25       0.0         0.0  ...                        0.0   \n",
              "\n",
              "        Обратный MIN  Производная от MIN  Вторая производная от MIN  \\\n",
              "0           0.000426                 NaN                        NaN   \n",
              "1           0.000426                 0.0                        NaN   \n",
              "2           0.000425                 1.4                        1.4   \n",
              "3           0.000425                -0.2                       -1.6   \n",
              "4           0.000425                 1.9                        2.1   \n",
              "...              ...                 ...                        ...   \n",
              "481867      0.000193                16.0                       18.0   \n",
              "481868      0.000193                 0.0                      -16.0   \n",
              "481869      0.000193                 0.0                        0.0   \n",
              "481870      0.000193                 0.0                        0.0   \n",
              "481871      0.000193                 0.0                        0.0   \n",
              "\n",
              "        Обратный CLOSE  Производная от CLOSE  Вторая производная от CLOSE  \\\n",
              "0             0.000426                   NaN                          NaN   \n",
              "1             0.000425                   5.7                          NaN   \n",
              "2             0.000425                  -1.6                         -7.3   \n",
              "3             0.000425                  -0.4                          1.2   \n",
              "4             0.000425                  -0.1                          0.3   \n",
              "...                ...                   ...                          ...   \n",
              "481867        0.000193                  11.5                         10.0   \n",
              "481868        0.000193                   0.0                        -11.5   \n",
              "481869        0.000193                   0.0                          0.0   \n",
              "481870        0.000193                   0.0                          0.0   \n",
              "481871        0.000193                   0.0                          0.0   \n",
              "\n",
              "        Обратный VOLUME  Производная от VOLUME  Вторая производная от VOLUME  \n",
              "0              0.000393                    NaN                           NaN  \n",
              "1              0.005128                -2352.0                           NaN  \n",
              "2              0.003891                   62.0                        2414.0  \n",
              "3              0.001311                  506.0                         444.0  \n",
              "4              0.004329                 -532.0                       -1038.0  \n",
              "...                 ...                    ...                           ...  \n",
              "481867         0.000032                29174.0                       29480.0  \n",
              "481868         0.000196               -26433.0                      -55607.0  \n",
              "481869         0.004348                -4860.0                       21573.0  \n",
              "481870         0.199960                 -225.0                        4635.0  \n",
              "481871         0.001006                  989.0                        1214.0  \n",
              "\n",
              "[481872 rows x 50 columns]"
            ],
            "text/html": [
              "\n",
              "  <div id=\"df-53782b5e-f6ec-4030-8df4-1f0deebffc71\" class=\"colab-df-container\">\n",
              "    <div>\n",
              "<style scoped>\n",
              "    .dataframe tbody tr th:only-of-type {\n",
              "        vertical-align: middle;\n",
              "    }\n",
              "\n",
              "    .dataframe tbody tr th {\n",
              "        vertical-align: top;\n",
              "    }\n",
              "\n",
              "    .dataframe thead th {\n",
              "        text-align: right;\n",
              "    }\n",
              "</style>\n",
              "<table border=\"1\" class=\"dataframe\">\n",
              "  <thead>\n",
              "    <tr style=\"text-align: right;\">\n",
              "      <th></th>\n",
              "      <th>OPEN</th>\n",
              "      <th>MAX</th>\n",
              "      <th>MIN</th>\n",
              "      <th>CLOSE</th>\n",
              "      <th>VOLUME</th>\n",
              "      <th>OPEN-MAX</th>\n",
              "      <th>|OPEN-MAX|</th>\n",
              "      <th>OPEN*MAX</th>\n",
              "      <th>OPEN-MIN</th>\n",
              "      <th>|OPEN-MIN|</th>\n",
              "      <th>...</th>\n",
              "      <th>Вторая производная от MAX</th>\n",
              "      <th>Обратный MIN</th>\n",
              "      <th>Производная от MIN</th>\n",
              "      <th>Вторая производная от MIN</th>\n",
              "      <th>Обратный CLOSE</th>\n",
              "      <th>Производная от CLOSE</th>\n",
              "      <th>Вторая производная от CLOSE</th>\n",
              "      <th>Обратный VOLUME</th>\n",
              "      <th>Производная от VOLUME</th>\n",
              "      <th>Вторая производная от VOLUME</th>\n",
              "    </tr>\n",
              "  </thead>\n",
              "  <tbody>\n",
              "    <tr>\n",
              "      <th>0</th>\n",
              "      <td>2351.0</td>\n",
              "      <td>2355.8</td>\n",
              "      <td>2350.0</td>\n",
              "      <td>2350.0</td>\n",
              "      <td>2547</td>\n",
              "      <td>-4.8</td>\n",
              "      <td>4.8</td>\n",
              "      <td>5538485.80</td>\n",
              "      <td>1.0</td>\n",
              "      <td>1.0</td>\n",
              "      <td>...</td>\n",
              "      <td>NaN</td>\n",
              "      <td>0.000426</td>\n",
              "      <td>NaN</td>\n",
              "      <td>NaN</td>\n",
              "      <td>0.000426</td>\n",
              "      <td>NaN</td>\n",
              "      <td>NaN</td>\n",
              "      <td>0.000393</td>\n",
              "      <td>NaN</td>\n",
              "      <td>NaN</td>\n",
              "    </tr>\n",
              "    <tr>\n",
              "      <th>1</th>\n",
              "      <td>2352.9</td>\n",
              "      <td>2355.7</td>\n",
              "      <td>2350.0</td>\n",
              "      <td>2355.7</td>\n",
              "      <td>195</td>\n",
              "      <td>-2.8</td>\n",
              "      <td>2.8</td>\n",
              "      <td>5542726.53</td>\n",
              "      <td>2.9</td>\n",
              "      <td>2.9</td>\n",
              "      <td>...</td>\n",
              "      <td>NaN</td>\n",
              "      <td>0.000426</td>\n",
              "      <td>0.0</td>\n",
              "      <td>NaN</td>\n",
              "      <td>0.000425</td>\n",
              "      <td>5.7</td>\n",
              "      <td>NaN</td>\n",
              "      <td>0.005128</td>\n",
              "      <td>-2352.0</td>\n",
              "      <td>NaN</td>\n",
              "    </tr>\n",
              "    <tr>\n",
              "      <th>2</th>\n",
              "      <td>2355.6</td>\n",
              "      <td>2356.0</td>\n",
              "      <td>2351.4</td>\n",
              "      <td>2354.1</td>\n",
              "      <td>257</td>\n",
              "      <td>-0.4</td>\n",
              "      <td>0.4</td>\n",
              "      <td>5549793.60</td>\n",
              "      <td>4.2</td>\n",
              "      <td>4.2</td>\n",
              "      <td>...</td>\n",
              "      <td>0.4</td>\n",
              "      <td>0.000425</td>\n",
              "      <td>1.4</td>\n",
              "      <td>1.4</td>\n",
              "      <td>0.000425</td>\n",
              "      <td>-1.6</td>\n",
              "      <td>-7.3</td>\n",
              "      <td>0.003891</td>\n",
              "      <td>62.0</td>\n",
              "      <td>2414.0</td>\n",
              "    </tr>\n",
              "    <tr>\n",
              "      <th>3</th>\n",
              "      <td>2354.5</td>\n",
              "      <td>2355.0</td>\n",
              "      <td>2351.2</td>\n",
              "      <td>2353.7</td>\n",
              "      <td>763</td>\n",
              "      <td>-0.5</td>\n",
              "      <td>0.5</td>\n",
              "      <td>5544847.50</td>\n",
              "      <td>3.3</td>\n",
              "      <td>3.3</td>\n",
              "      <td>...</td>\n",
              "      <td>-1.3</td>\n",
              "      <td>0.000425</td>\n",
              "      <td>-0.2</td>\n",
              "      <td>-1.6</td>\n",
              "      <td>0.000425</td>\n",
              "      <td>-0.4</td>\n",
              "      <td>1.2</td>\n",
              "      <td>0.001311</td>\n",
              "      <td>506.0</td>\n",
              "      <td>444.0</td>\n",
              "    </tr>\n",
              "    <tr>\n",
              "      <th>4</th>\n",
              "      <td>2353.1</td>\n",
              "      <td>2353.9</td>\n",
              "      <td>2353.1</td>\n",
              "      <td>2353.6</td>\n",
              "      <td>231</td>\n",
              "      <td>-0.8</td>\n",
              "      <td>0.8</td>\n",
              "      <td>5538962.09</td>\n",
              "      <td>0.0</td>\n",
              "      <td>0.0</td>\n",
              "      <td>...</td>\n",
              "      <td>-0.1</td>\n",
              "      <td>0.000425</td>\n",
              "      <td>1.9</td>\n",
              "      <td>2.1</td>\n",
              "      <td>0.000425</td>\n",
              "      <td>-0.1</td>\n",
              "      <td>0.3</td>\n",
              "      <td>0.004329</td>\n",
              "      <td>-532.0</td>\n",
              "      <td>-1038.0</td>\n",
              "    </tr>\n",
              "    <tr>\n",
              "      <th>...</th>\n",
              "      <td>...</td>\n",
              "      <td>...</td>\n",
              "      <td>...</td>\n",
              "      <td>...</td>\n",
              "      <td>...</td>\n",
              "      <td>...</td>\n",
              "      <td>...</td>\n",
              "      <td>...</td>\n",
              "      <td>...</td>\n",
              "      <td>...</td>\n",
              "      <td>...</td>\n",
              "      <td>...</td>\n",
              "      <td>...</td>\n",
              "      <td>...</td>\n",
              "      <td>...</td>\n",
              "      <td>...</td>\n",
              "      <td>...</td>\n",
              "      <td>...</td>\n",
              "      <td>...</td>\n",
              "      <td>...</td>\n",
              "      <td>...</td>\n",
              "    </tr>\n",
              "    <tr>\n",
              "      <th>481867</th>\n",
              "      <td>5183.5</td>\n",
              "      <td>5183.5</td>\n",
              "      <td>5183.5</td>\n",
              "      <td>5183.5</td>\n",
              "      <td>31523</td>\n",
              "      <td>0.0</td>\n",
              "      <td>0.0</td>\n",
              "      <td>26868672.25</td>\n",
              "      <td>0.0</td>\n",
              "      <td>0.0</td>\n",
              "      <td>...</td>\n",
              "      <td>11.5</td>\n",
              "      <td>0.000193</td>\n",
              "      <td>16.0</td>\n",
              "      <td>18.0</td>\n",
              "      <td>0.000193</td>\n",
              "      <td>11.5</td>\n",
              "      <td>10.0</td>\n",
              "      <td>0.000032</td>\n",
              "      <td>29174.0</td>\n",
              "      <td>29480.0</td>\n",
              "    </tr>\n",
              "    <tr>\n",
              "      <th>481868</th>\n",
              "      <td>5183.5</td>\n",
              "      <td>5183.5</td>\n",
              "      <td>5183.5</td>\n",
              "      <td>5183.5</td>\n",
              "      <td>5090</td>\n",
              "      <td>0.0</td>\n",
              "      <td>0.0</td>\n",
              "      <td>26868672.25</td>\n",
              "      <td>0.0</td>\n",
              "      <td>0.0</td>\n",
              "      <td>...</td>\n",
              "      <td>-11.5</td>\n",
              "      <td>0.000193</td>\n",
              "      <td>0.0</td>\n",
              "      <td>-16.0</td>\n",
              "      <td>0.000193</td>\n",
              "      <td>0.0</td>\n",
              "      <td>-11.5</td>\n",
              "      <td>0.000196</td>\n",
              "      <td>-26433.0</td>\n",
              "      <td>-55607.0</td>\n",
              "    </tr>\n",
              "    <tr>\n",
              "      <th>481869</th>\n",
              "      <td>5183.5</td>\n",
              "      <td>5183.5</td>\n",
              "      <td>5183.5</td>\n",
              "      <td>5183.5</td>\n",
              "      <td>230</td>\n",
              "      <td>0.0</td>\n",
              "      <td>0.0</td>\n",
              "      <td>26868672.25</td>\n",
              "      <td>0.0</td>\n",
              "      <td>0.0</td>\n",
              "      <td>...</td>\n",
              "      <td>0.0</td>\n",
              "      <td>0.000193</td>\n",
              "      <td>0.0</td>\n",
              "      <td>0.0</td>\n",
              "      <td>0.000193</td>\n",
              "      <td>0.0</td>\n",
              "      <td>0.0</td>\n",
              "      <td>0.004348</td>\n",
              "      <td>-4860.0</td>\n",
              "      <td>21573.0</td>\n",
              "    </tr>\n",
              "    <tr>\n",
              "      <th>481870</th>\n",
              "      <td>5183.5</td>\n",
              "      <td>5183.5</td>\n",
              "      <td>5183.5</td>\n",
              "      <td>5183.5</td>\n",
              "      <td>5</td>\n",
              "      <td>0.0</td>\n",
              "      <td>0.0</td>\n",
              "      <td>26868672.25</td>\n",
              "      <td>0.0</td>\n",
              "      <td>0.0</td>\n",
              "      <td>...</td>\n",
              "      <td>0.0</td>\n",
              "      <td>0.000193</td>\n",
              "      <td>0.0</td>\n",
              "      <td>0.0</td>\n",
              "      <td>0.000193</td>\n",
              "      <td>0.0</td>\n",
              "      <td>0.0</td>\n",
              "      <td>0.199960</td>\n",
              "      <td>-225.0</td>\n",
              "      <td>4635.0</td>\n",
              "    </tr>\n",
              "    <tr>\n",
              "      <th>481871</th>\n",
              "      <td>5183.5</td>\n",
              "      <td>5183.5</td>\n",
              "      <td>5183.5</td>\n",
              "      <td>5183.5</td>\n",
              "      <td>994</td>\n",
              "      <td>0.0</td>\n",
              "      <td>0.0</td>\n",
              "      <td>26868672.25</td>\n",
              "      <td>0.0</td>\n",
              "      <td>0.0</td>\n",
              "      <td>...</td>\n",
              "      <td>0.0</td>\n",
              "      <td>0.000193</td>\n",
              "      <td>0.0</td>\n",
              "      <td>0.0</td>\n",
              "      <td>0.000193</td>\n",
              "      <td>0.0</td>\n",
              "      <td>0.0</td>\n",
              "      <td>0.001006</td>\n",
              "      <td>989.0</td>\n",
              "      <td>1214.0</td>\n",
              "    </tr>\n",
              "  </tbody>\n",
              "</table>\n",
              "<p>481872 rows × 50 columns</p>\n",
              "</div>\n",
              "    <div class=\"colab-df-buttons\">\n",
              "\n",
              "  <div class=\"colab-df-container\">\n",
              "    <button class=\"colab-df-convert\" onclick=\"convertToInteractive('df-53782b5e-f6ec-4030-8df4-1f0deebffc71')\"\n",
              "            title=\"Convert this dataframe to an interactive table.\"\n",
              "            style=\"display:none;\">\n",
              "\n",
              "  <svg xmlns=\"http://www.w3.org/2000/svg\" height=\"24px\" viewBox=\"0 -960 960 960\">\n",
              "    <path d=\"M120-120v-720h720v720H120Zm60-500h600v-160H180v160Zm220 220h160v-160H400v160Zm0 220h160v-160H400v160ZM180-400h160v-160H180v160Zm440 0h160v-160H620v160ZM180-180h160v-160H180v160Zm440 0h160v-160H620v160Z\"/>\n",
              "  </svg>\n",
              "    </button>\n",
              "\n",
              "  <style>\n",
              "    .colab-df-container {\n",
              "      display:flex;\n",
              "      gap: 12px;\n",
              "    }\n",
              "\n",
              "    .colab-df-convert {\n",
              "      background-color: #E8F0FE;\n",
              "      border: none;\n",
              "      border-radius: 50%;\n",
              "      cursor: pointer;\n",
              "      display: none;\n",
              "      fill: #1967D2;\n",
              "      height: 32px;\n",
              "      padding: 0 0 0 0;\n",
              "      width: 32px;\n",
              "    }\n",
              "\n",
              "    .colab-df-convert:hover {\n",
              "      background-color: #E2EBFA;\n",
              "      box-shadow: 0px 1px 2px rgba(60, 64, 67, 0.3), 0px 1px 3px 1px rgba(60, 64, 67, 0.15);\n",
              "      fill: #174EA6;\n",
              "    }\n",
              "\n",
              "    .colab-df-buttons div {\n",
              "      margin-bottom: 4px;\n",
              "    }\n",
              "\n",
              "    [theme=dark] .colab-df-convert {\n",
              "      background-color: #3B4455;\n",
              "      fill: #D2E3FC;\n",
              "    }\n",
              "\n",
              "    [theme=dark] .colab-df-convert:hover {\n",
              "      background-color: #434B5C;\n",
              "      box-shadow: 0px 1px 3px 1px rgba(0, 0, 0, 0.15);\n",
              "      filter: drop-shadow(0px 1px 2px rgba(0, 0, 0, 0.3));\n",
              "      fill: #FFFFFF;\n",
              "    }\n",
              "  </style>\n",
              "\n",
              "    <script>\n",
              "      const buttonEl =\n",
              "        document.querySelector('#df-53782b5e-f6ec-4030-8df4-1f0deebffc71 button.colab-df-convert');\n",
              "      buttonEl.style.display =\n",
              "        google.colab.kernel.accessAllowed ? 'block' : 'none';\n",
              "\n",
              "      async function convertToInteractive(key) {\n",
              "        const element = document.querySelector('#df-53782b5e-f6ec-4030-8df4-1f0deebffc71');\n",
              "        const dataTable =\n",
              "          await google.colab.kernel.invokeFunction('convertToInteractive',\n",
              "                                                    [key], {});\n",
              "        if (!dataTable) return;\n",
              "\n",
              "        const docLinkHtml = 'Like what you see? Visit the ' +\n",
              "          '<a target=\"_blank\" href=https://colab.research.google.com/notebooks/data_table.ipynb>data table notebook</a>'\n",
              "          + ' to learn more about interactive tables.';\n",
              "        element.innerHTML = '';\n",
              "        dataTable['output_type'] = 'display_data';\n",
              "        await google.colab.output.renderOutput(dataTable, element);\n",
              "        const docLink = document.createElement('div');\n",
              "        docLink.innerHTML = docLinkHtml;\n",
              "        element.appendChild(docLink);\n",
              "      }\n",
              "    </script>\n",
              "  </div>\n",
              "\n",
              "\n",
              "    <div id=\"df-5d9d88fa-2c95-43e1-b3f6-1684332870ce\">\n",
              "      <button class=\"colab-df-quickchart\" onclick=\"quickchart('df-5d9d88fa-2c95-43e1-b3f6-1684332870ce')\"\n",
              "                title=\"Suggest charts\"\n",
              "                style=\"display:none;\">\n",
              "\n",
              "<svg xmlns=\"http://www.w3.org/2000/svg\" height=\"24px\"viewBox=\"0 0 24 24\"\n",
              "     width=\"24px\">\n",
              "    <g>\n",
              "        <path d=\"M19 3H5c-1.1 0-2 .9-2 2v14c0 1.1.9 2 2 2h14c1.1 0 2-.9 2-2V5c0-1.1-.9-2-2-2zM9 17H7v-7h2v7zm4 0h-2V7h2v10zm4 0h-2v-4h2v4z\"/>\n",
              "    </g>\n",
              "</svg>\n",
              "      </button>\n",
              "\n",
              "<style>\n",
              "  .colab-df-quickchart {\n",
              "      --bg-color: #E8F0FE;\n",
              "      --fill-color: #1967D2;\n",
              "      --hover-bg-color: #E2EBFA;\n",
              "      --hover-fill-color: #174EA6;\n",
              "      --disabled-fill-color: #AAA;\n",
              "      --disabled-bg-color: #DDD;\n",
              "  }\n",
              "\n",
              "  [theme=dark] .colab-df-quickchart {\n",
              "      --bg-color: #3B4455;\n",
              "      --fill-color: #D2E3FC;\n",
              "      --hover-bg-color: #434B5C;\n",
              "      --hover-fill-color: #FFFFFF;\n",
              "      --disabled-bg-color: #3B4455;\n",
              "      --disabled-fill-color: #666;\n",
              "  }\n",
              "\n",
              "  .colab-df-quickchart {\n",
              "    background-color: var(--bg-color);\n",
              "    border: none;\n",
              "    border-radius: 50%;\n",
              "    cursor: pointer;\n",
              "    display: none;\n",
              "    fill: var(--fill-color);\n",
              "    height: 32px;\n",
              "    padding: 0;\n",
              "    width: 32px;\n",
              "  }\n",
              "\n",
              "  .colab-df-quickchart:hover {\n",
              "    background-color: var(--hover-bg-color);\n",
              "    box-shadow: 0 1px 2px rgba(60, 64, 67, 0.3), 0 1px 3px 1px rgba(60, 64, 67, 0.15);\n",
              "    fill: var(--button-hover-fill-color);\n",
              "  }\n",
              "\n",
              "  .colab-df-quickchart-complete:disabled,\n",
              "  .colab-df-quickchart-complete:disabled:hover {\n",
              "    background-color: var(--disabled-bg-color);\n",
              "    fill: var(--disabled-fill-color);\n",
              "    box-shadow: none;\n",
              "  }\n",
              "\n",
              "  .colab-df-spinner {\n",
              "    border: 2px solid var(--fill-color);\n",
              "    border-color: transparent;\n",
              "    border-bottom-color: var(--fill-color);\n",
              "    animation:\n",
              "      spin 1s steps(1) infinite;\n",
              "  }\n",
              "\n",
              "  @keyframes spin {\n",
              "    0% {\n",
              "      border-color: transparent;\n",
              "      border-bottom-color: var(--fill-color);\n",
              "      border-left-color: var(--fill-color);\n",
              "    }\n",
              "    20% {\n",
              "      border-color: transparent;\n",
              "      border-left-color: var(--fill-color);\n",
              "      border-top-color: var(--fill-color);\n",
              "    }\n",
              "    30% {\n",
              "      border-color: transparent;\n",
              "      border-left-color: var(--fill-color);\n",
              "      border-top-color: var(--fill-color);\n",
              "      border-right-color: var(--fill-color);\n",
              "    }\n",
              "    40% {\n",
              "      border-color: transparent;\n",
              "      border-right-color: var(--fill-color);\n",
              "      border-top-color: var(--fill-color);\n",
              "    }\n",
              "    60% {\n",
              "      border-color: transparent;\n",
              "      border-right-color: var(--fill-color);\n",
              "    }\n",
              "    80% {\n",
              "      border-color: transparent;\n",
              "      border-right-color: var(--fill-color);\n",
              "      border-bottom-color: var(--fill-color);\n",
              "    }\n",
              "    90% {\n",
              "      border-color: transparent;\n",
              "      border-bottom-color: var(--fill-color);\n",
              "    }\n",
              "  }\n",
              "</style>\n",
              "\n",
              "      <script>\n",
              "        async function quickchart(key) {\n",
              "          const quickchartButtonEl =\n",
              "            document.querySelector('#' + key + ' button');\n",
              "          quickchartButtonEl.disabled = true;  // To prevent multiple clicks.\n",
              "          quickchartButtonEl.classList.add('colab-df-spinner');\n",
              "          try {\n",
              "            const charts = await google.colab.kernel.invokeFunction(\n",
              "                'suggestCharts', [key], {});\n",
              "          } catch (error) {\n",
              "            console.error('Error during call to suggestCharts:', error);\n",
              "          }\n",
              "          quickchartButtonEl.classList.remove('colab-df-spinner');\n",
              "          quickchartButtonEl.classList.add('colab-df-quickchart-complete');\n",
              "        }\n",
              "        (() => {\n",
              "          let quickchartButtonEl =\n",
              "            document.querySelector('#df-5d9d88fa-2c95-43e1-b3f6-1684332870ce button');\n",
              "          quickchartButtonEl.style.display =\n",
              "            google.colab.kernel.accessAllowed ? 'block' : 'none';\n",
              "        })();\n",
              "      </script>\n",
              "    </div>\n",
              "\n",
              "  <div id=\"id_602c209f-e9a8-43bc-9c87-caa74655b050\">\n",
              "    <style>\n",
              "      .colab-df-generate {\n",
              "        background-color: #E8F0FE;\n",
              "        border: none;\n",
              "        border-radius: 50%;\n",
              "        cursor: pointer;\n",
              "        display: none;\n",
              "        fill: #1967D2;\n",
              "        height: 32px;\n",
              "        padding: 0 0 0 0;\n",
              "        width: 32px;\n",
              "      }\n",
              "\n",
              "      .colab-df-generate:hover {\n",
              "        background-color: #E2EBFA;\n",
              "        box-shadow: 0px 1px 2px rgba(60, 64, 67, 0.3), 0px 1px 3px 1px rgba(60, 64, 67, 0.15);\n",
              "        fill: #174EA6;\n",
              "      }\n",
              "\n",
              "      [theme=dark] .colab-df-generate {\n",
              "        background-color: #3B4455;\n",
              "        fill: #D2E3FC;\n",
              "      }\n",
              "\n",
              "      [theme=dark] .colab-df-generate:hover {\n",
              "        background-color: #434B5C;\n",
              "        box-shadow: 0px 1px 3px 1px rgba(0, 0, 0, 0.15);\n",
              "        filter: drop-shadow(0px 1px 2px rgba(0, 0, 0, 0.3));\n",
              "        fill: #FFFFFF;\n",
              "      }\n",
              "    </style>\n",
              "    <button class=\"colab-df-generate\" onclick=\"generateWithVariable('data')\"\n",
              "            title=\"Generate code using this dataframe.\"\n",
              "            style=\"display:none;\">\n",
              "\n",
              "  <svg xmlns=\"http://www.w3.org/2000/svg\" height=\"24px\"viewBox=\"0 0 24 24\"\n",
              "       width=\"24px\">\n",
              "    <path d=\"M7,19H8.4L18.45,9,17,7.55,7,17.6ZM5,21V16.75L18.45,3.32a2,2,0,0,1,2.83,0l1.4,1.43a1.91,1.91,0,0,1,.58,1.4,1.91,1.91,0,0,1-.58,1.4L9.25,21ZM18.45,9,17,7.55Zm-12,3A5.31,5.31,0,0,0,4.9,8.1,5.31,5.31,0,0,0,1,6.5,5.31,5.31,0,0,0,4.9,4.9,5.31,5.31,0,0,0,6.5,1,5.31,5.31,0,0,0,8.1,4.9,5.31,5.31,0,0,0,12,6.5,5.46,5.46,0,0,0,6.5,12Z\"/>\n",
              "  </svg>\n",
              "    </button>\n",
              "    <script>\n",
              "      (() => {\n",
              "      const buttonEl =\n",
              "        document.querySelector('#id_602c209f-e9a8-43bc-9c87-caa74655b050 button.colab-df-generate');\n",
              "      buttonEl.style.display =\n",
              "        google.colab.kernel.accessAllowed ? 'block' : 'none';\n",
              "\n",
              "      buttonEl.onclick = () => {\n",
              "        google.colab.notebook.generateWithVariable('data');\n",
              "      }\n",
              "      })();\n",
              "    </script>\n",
              "  </div>\n",
              "\n",
              "    </div>\n",
              "  </div>\n"
            ],
            "application/vnd.google.colaboratory.intrinsic+json": {
              "type": "dataframe",
              "variable_name": "data"
            }
          },
          "metadata": {},
          "execution_count": 26
        }
      ]
    },
    {
      "cell_type": "code",
      "metadata": {
        "id": "ieoPO92Wwc_p"
      },
      "source": [
        "# Использование всех столбцов, кроме первых двух\n",
        "data = np.array(data.iloc[2:])\n",
        "\n",
        "# Перевод в numpy\n",
        "data = np.array(data)\n",
        "\n",
        "# Переменная, для использования одной и той же архитектуры под разные матрицы\n",
        "columnsamount = data.shape[1]"
      ],
      "execution_count": null,
      "outputs": []
    },
    {
      "cell_type": "code",
      "source": [
        "#Ваше решение"
      ],
      "metadata": {
        "id": "1ur7TUg5oTQe"
      },
      "execution_count": null,
      "outputs": []
    }
  ]
}